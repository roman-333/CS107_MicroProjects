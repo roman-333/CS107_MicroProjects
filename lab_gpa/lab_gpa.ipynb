{
 "cells": [
  {
   "attachments": {},
   "cell_type": "markdown",
   "metadata": {},
   "source": [
    "# Welcome to Lab: GPA 🎓\n",
    "\n",
    "In this lab, you'll explore the GPA dataset again to find out more about the courses here at UIUC!\n",
    "\n",
    "Fun fact: the dataset you're using in this lab is the same dataset that Professor Wade uses to make the GPA visualizations! :)  Check this out here if you haven't seen it already: [https://waf.cs.illinois.edu/discovery/grade_disparity_between_sections_at_uiuc/](https://waf.cs.illinois.edu/discovery/grade_disparity_between_sections_at_uiuc/)\n",
    "\n",
    "\n",
    "A few tips to remember:\n",
    "\n",
    "- **You are not alone on your journey in learning programming!**  You have your lab TA, your CAs, your lab group, and the professors (Prof. Wade and Prof. Karle), who are all here to help you out!\n",
    "- If you find yourself stuck for more than a few minutes, ask a neighbor or course staff for help!  When you are giving help to your neighbor, explain the **idea and approach** to the problem without sharing the answer itself so they can have the same **<i>ah-hah</i>** moment!\n",
    "- We are here to help you!  Don't feel embarrassed or shy to ask us for help!\n",
    "\n",
    "Let's get started!"
   ]
  },
  {
   "cell_type": "code",
   "execution_count": null,
   "metadata": {},
   "outputs": [],
   "source": [
    "# Meet your CAs and TA if you haven't already!\n",
    "# ...first name is enough, we'll know who they are! :)\n",
    "ta_name = \"Yu Bao\"\n",
    "ca1_name = \"\"\n",
    "ca2_name = \"\"\n",
    "ca3_name = \"\"\n",
    "\n",
    "\n",
    "# Say hello to each other!\n",
    "# - Groups of 3 are ideal :)\n",
    "# - However, groups of 2 or 4 are fine too!\n",
    "#\n",
    "# Question of the Day (QOTD) to Ask Your Group: \"What's your favorite social media?\"\n",
    "partner1_name = \"Eric \"\n",
    "partner1_netid = \"ericz27\"\n",
    "partner1_favsocialmedia = \"YouTube\"\n",
    "\n",
    "partner2_name = \"Yide\"\n",
    "partner2_netid = \"yideguo2\"\n",
    "partner2_favsocialmedia = \"WeChat\"\n",
    "\n",
    "partner3_name = \"\"\n",
    "partner3_netid = \"\"\n",
    "partner3_favsocialmedia= \"\"\n",
    "\n",
    "# Which lab section are you in? Record it below! It should start with a Y and have \n",
    "# 2 numbers after the Y. If you're unsure - ask your TA/CAs!\n",
    "lab_section = \"Y17\""
   ]
  },
  {
   "cell_type": "markdown",
   "metadata": {},
   "source": [
    "<hr style=\"color: #DD3403;\">"
   ]
  },
  {
   "attachments": {},
   "cell_type": "markdown",
   "metadata": {},
   "source": [
    "# Part 1: Exploring GPA"
   ]
  },
  {
   "attachments": {},
   "cell_type": "markdown",
   "metadata": {},
   "source": [
    "## Load the GPA Dataset\n",
    "\n",
    "Before we begin exploring the GPA Dataset, we've got to load it in! The most recent version of the \"GPA Dataset\" (up to Winter 2024) is available here:\n",
    "```\n",
    "https://waf.cs.illinois.edu/discovery/gpa.csv\n",
    "```\n",
    "\n",
    "Use Python to load this dataset into a DataFrame called `df`:"
   ]
  },
  {
   "cell_type": "code",
   "execution_count": null,
   "metadata": {},
   "outputs": [],
   "source": [
    "import pandas as pd\n",
    "import numpy as np\n",
    "\n",
    "df = pd.read_csv(\"https://waf.cs.illinois.edu/discovery/gpa.csv\")\n",
    "df.columns"
   ]
  },
  {
   "cell_type": "markdown",
   "metadata": {},
   "source": [
    "### 🔬 Test Case Checkpoint 🔬"
   ]
  },
  {
   "cell_type": "code",
   "execution_count": null,
   "metadata": {},
   "outputs": [],
   "source": [
    "## == CHECKPOINT TEST CASES ==\n",
    "# - This read-only cell contains test cases for your previous cell.\n",
    "# - If this cell runs without any errors, you PASSED all test cases!\n",
    "# - If this cell results in any errors, check your previous cell, make changes, and RE-RUN your code and then this cell.\n",
    "assert(len(df) == 69112), \"This is not the GPA dataset you're looking for.\"\n",
    "\n",
    "## == SUCCESS MESSAGE ==\n",
    "# You will only see this message (with the emoji showing) if you passed all test cases:\n",
    "tada = \"\\N{PARTY POPPER}\"\n",
    "print(f\"{tada} All tests passed! {tada}\")"
   ]
  },
  {
   "attachments": {},
   "cell_type": "markdown",
   "metadata": {},
   "source": [
    "### Puzzle 1.1: The \"Average GPA\" Column\n",
    "Each row in the GPA Dataset represents a **course section** at Illinois. For our exploratory data analysis, we are going to need an additional `Average GPA` column.\n",
    "\n",
    "To create this column, we need to compute the **weighted average GPA** for each course section by taking into account the **number of students** who received each letter grade and the weight of each letter grade (see page 27 of your notebook for details).  To find the grade points for each letter grade, see the [Illinois Registrar](https://registrar.illinois.edu/courses-grades/explanation-of-grades/).\n",
    "\n",
    "\n",
    "**Q1:** Before creating the `Average GPA` column, talk to your group about how exactly you are going to go about doing this. What variables will you use and how will you use them? Describe the process without writing the code in the cell below."
   ]
  },
  {
   "cell_type": "markdown",
   "metadata": {},
   "source": [
    "*(✏️\n",
    "\n",
    " You multiply by the weight of each grade and divide by the section number of students \n",
    "\n",
    "  ✏️)*"
   ]
  },
  {
   "cell_type": "markdown",
   "metadata": {},
   "source": [
    "Using the cell below, create the `Average GPA` column in our DataFrame, `df`."
   ]
  },
  {
   "cell_type": "code",
   "execution_count": null,
   "metadata": {},
   "outputs": [],
   "source": [
    "df[\"Average GPA\"] = (4*df[\"A+\"]) + (4*df[\"A\"]) + (3.67 *df[\"A-\"]) + (3.33*df[\"B+\"]) + (3*df[\"B\"]) + (2.67 *df[\"B-\"]) +(2.33*df[\"C+\"]) + (2*df[\"C\"]) + (1.67 *df[\"C-\"]) + (1.33*df[\"D+\"]) + (1*df[\"D\"]) + (0.67 *df[\"D-\"]) + (0 *df[\"F\"])\n",
    "df[\"Average GPA\"] = df[\"Average GPA\"] / df[\"Students\"]"
   ]
  },
  {
   "cell_type": "markdown",
   "metadata": {},
   "source": [
    "### 🔬 Test Case Checkpoint 🔬"
   ]
  },
  {
   "cell_type": "code",
   "execution_count": null,
   "metadata": {},
   "outputs": [],
   "source": [
    "## == TEST CASES for Puzzle 1.1 ==\n",
    "# - This read-only cell contains test cases for your previous cell.\n",
    "# - If this cell runs without any error or output, you PASSED all test cases!\n",
    "# - If this cell results in any errors, check your previous cell, make changes, and RE-RUN your code and then this cell.\n",
    "import math\n",
    "assert( len(df) == 69112  ), \"You shouldn't be changing the length of `df` when computing Average GPA.\"\n",
    "assert( \"Average GPA\" in df.columns), \"Make sure your new column is named 'Average GPA'.\"\n",
    "assert( math.isclose(df['Average GPA'].mean(), 3.3790213685614776)), \"Your calculation of the Average GPA is incorrect.\"\n",
    "\n",
    "## == SUCCESS MESSAGE ==\n",
    "# You'll only see this message (With the emoji showing) if you passed all test cases:\n",
    "tada = \"\\N{PARTY POPPER}\"\n",
    "print(f\"{tada} All tests passed! {tada}\")"
   ]
  },
  {
   "attachments": {},
   "cell_type": "markdown",
   "metadata": {},
   "source": [
    "### Puzzle 1.2: The \"Hardest\" and \"Easiest\" Courses?\n",
    "One way to judge a course's difficulty is to consider its **Average GPA**. \n",
    "\n",
    "Using the `Average GPA` column you created and the two cells below, find:\n",
    "- The **50** courses with the **lowest** `Average GPA`, storing in the DataFrame `df_hard`\n",
    "- The **50** courses with the **highest** `Average GPA`, storing the DataFrame `df_easy` "
   ]
  },
  {
   "cell_type": "code",
   "execution_count": null,
   "metadata": {},
   "outputs": [],
   "source": [
    "df_hard = df.nsmallest(50, \"Average GPA\")"
   ]
  },
  {
   "cell_type": "code",
   "execution_count": null,
   "metadata": {},
   "outputs": [],
   "source": [
    "df_easy = df.nlargest(50, \"Average GPA\")"
   ]
  },
  {
   "attachments": {},
   "cell_type": "markdown",
   "metadata": {},
   "source": [
    "Now, using your two new DataFrames (`df_hard` and `df_easy`), find:\n",
    "- The **mean course number** of the 50 hardest courses by GPA, storing in the variable `hard_avg`\n",
    "- The **mean course number** of the 50 easiest courses by GPA, storing in the variable `easy_avg`"
   ]
  },
  {
   "cell_type": "code",
   "execution_count": null,
   "metadata": {},
   "outputs": [],
   "source": [
    "hard_avg = df_hard[\"Number\"].mean()\n",
    "hard_avg"
   ]
  },
  {
   "cell_type": "code",
   "execution_count": null,
   "metadata": {},
   "outputs": [],
   "source": [
    "easy_avg = df_easy[\"Number\"].mean()\n",
    "easy_avg"
   ]
  },
  {
   "cell_type": "markdown",
   "metadata": {},
   "source": [
    "### 🔬 Test Case Checkpoint 🔬"
   ]
  },
  {
   "cell_type": "code",
   "execution_count": null,
   "metadata": {},
   "outputs": [],
   "source": [
    "## == TEST CASE for Puzzle 1.2 ==\n",
    "# - This read-only cell contains test cases for your previous cell.\n",
    "# - If this cell runs without any error or output, you PASSED all test cases!\n",
    "# - If this cell results in any errors, check your previous cell(s), make changes, and RE-RUN your code and then this cell.\n",
    "import math\n",
    "assert( len(df_hard) == len(df_easy) == 50 ), \"Your df_hard and df_easy should be picking the 50 courses with the lowest / highest average GPA respectively. Please double check that you are selecting 50 courses.\"\n",
    "assert( math.isclose(df_hard['Average GPA'].sum(), 80.3858156565443) ), \"Your df_hard is calculated incorrectly. Make sure you are finding the 50 courses with the lowest Average GPA.\"\n",
    "assert( math.isclose(df_easy['Average GPA'].sum(), 199.39636832538582) ), \"Your df_easy is calculated incorrectly. Make sure you are finding the 50 courses with the highest Average GPA.\"\n",
    "assert( math.isclose(hard_avg, 167.22) ), \"Your calculation for the average course number of 'hard' courses is incorrect. Make sure you are finding the mean of course numbers of df_hard.\"\n",
    "assert( math.isclose(easy_avg, 372.96) or math.isclose(easy_avg, 375.56)), \"Your calculation for the average course number of 'easy' courses is incorrect. Make sure you are finding the mean of course numbers of df_easy.\"\n",
    "\n",
    "## == SUCCESS MESSAGE ==\n",
    "# You'll only see this message (With the emoji showing) if you passed all test cases:\n",
    "tada = \"\\N{PARTY POPPER}\"\n",
    "print(f\"{tada} All tests passed! {tada}\")"
   ]
  },
  {
   "attachments": {},
   "cell_type": "markdown",
   "metadata": {},
   "source": [
    "### Analysis: \"Hardest\" and \"Easiest\" Courses? \n",
    "\n",
    "**Q2: After solving Puzzle 1.2, your friend has the following claim:**\n",
    "\n",
    "> *\"We know that the undergraduate courses are coded from 001 to 499, where a larger number (in the hundreds place) usually implies more advanced material. Based on our results in the previous puzzles, the data shows that the junior-level and senior-level courses are clearly not the hardest courses at UIUC.\"*\n",
    "\n",
    "**Comment on your friend's claim below. Do you think they are correct? Explain why or why not.**"
   ]
  },
  {
   "cell_type": "markdown",
   "metadata": {},
   "source": [
    "*(✏️ This statement is incorrect, despite not averaging the above 499. There is a correlation between lower level classes having a lower gpa average in compasision to higher gpa's(with greater number) ✏️)*"
   ]
  },
  {
   "cell_type": "markdown",
   "metadata": {},
   "source": [
    "<hr style=\"color: #DD3403;\">"
   ]
  },
  {
   "attachments": {},
   "cell_type": "markdown",
   "metadata": {},
   "source": [
    "# Part 2: GPA By Subject\n",
    "We've explored some of the GPA Dataset as a whole, but what if we want to investigate **differences in GPA by subject**? "
   ]
  },
  {
   "attachments": {},
   "cell_type": "markdown",
   "metadata": {},
   "source": [
    "### Puzzle 2.1: Exploring Different Subjects\n",
    "\n",
    "In the following cell, create a new DataFrame called `df_subject` that has a single row for each subject. In `df_subject`, each **letter grade column** should contain the **total number of students** receiving the same grade in that `Subject`. Make sure your DataFrame only contains numeric columns."
   ]
  },
  {
   "cell_type": "code",
   "execution_count": null,
   "metadata": {},
   "outputs": [],
   "source": [
    "df_subject = df.groupby(\"Subject\").agg(\"sum\").reset_index()"
   ]
  },
  {
   "cell_type": "markdown",
   "metadata": {},
   "source": [
    "### 🔬 Test Case Checkpoint 🔬"
   ]
  },
  {
   "cell_type": "code",
   "execution_count": null,
   "metadata": {},
   "outputs": [],
   "source": [
    "## == TEST CASE for Puzzle 2.1 ==\n",
    "# - This read-only cell contains test cases for your previous cell.\n",
    "# - If this cell runs without any error or output, you PASSED all test cases!\n",
    "# - If this cell results in any errors, check your previous cell(s), make changes, and RE-RUN your code and then this cell.\n",
    "import math\n",
    "assert( 'df_subject' in vars() ), \"Make sure your DataFrame grouped by 'Subject' is named 'df_subject'.\" \n",
    "assert( len(df_subject) == 174 ), \"Make sure you are grouping by 'Subject'. There are 174 Subjects in our original `df`, so the length of `df_subject` should be 174.\"\n",
    "assert( math.isclose(df_subject.Students.mean(), 23685.287356321838) ), \"Double-check that you are aggregating your df_subject correctly.\"\n",
    "\n",
    "## == SUCCESS MESSAGE ==\n",
    "# You'll only see this message (With the emoji showing) if you passed all test cases:\n",
    "tada = \"\\N{PARTY POPPER}\"\n",
    "print(f\"{tada} All tests passed! {tada}\")"
   ]
  },
  {
   "attachments": {},
   "cell_type": "markdown",
   "metadata": {},
   "source": [
    "### Puzzle 2.2: Fixing our `Average GPA` Column\n",
    "Your intuition may tell you that some columns in `df_subject` look off. This is correct - given the way we've grouped the data to find **total student counts** by grade, the `Year` and `Average GPA` columns are incorrect. \n",
    "\n",
    "Let's fix this by redefining the `Average GPA` column in our `df_subject`.\n",
    "\n",
    "The `Average GPA` column should contain the **weighted average GPA** of each `Subject` by taking into account the **number of students** who received each letter grade in said `Subject`. "
   ]
  },
  {
   "cell_type": "code",
   "execution_count": null,
   "metadata": {},
   "outputs": [],
   "source": [
    "\n",
    "df_subject[\"Average GPA\"] = (4*df_subject[\"A+\"]) + (4*df_subject[\"A\"]) + (3.67 *df_subject[\"A-\"]) + (3.33*df_subject[\"B+\"]) + (3*df_subject[\"B\"]) + (2.67 *df_subject[\"B-\"]) +(2.33*df_subject[\"C+\"]) + (2*df_subject[\"C\"]) + (1.67 *df_subject[\"C-\"]) + (1.33*df_subject[\"D+\"]) + (1*df_subject[\"D\"]) + (0.67 *df_subject[\"D-\"]) + (0 *df_subject[\"F\"])\n",
    "df_subject[\"Average GPA\"] = df_subject[\"Average GPA\"] / df_subject[\"Students\"]\n"
   ]
  },
  {
   "cell_type": "markdown",
   "metadata": {},
   "source": [
    "### 🔬 Test Case Checkpoint 🔬"
   ]
  },
  {
   "cell_type": "code",
   "execution_count": null,
   "metadata": {},
   "outputs": [],
   "source": [
    "## == TEST CASES for Puzzle 2.2 ==\n",
    "# - This read-only cell contains test cases for your previous cell.\n",
    "# - If this cell runs without any error or output, you PASSED all test cases!\n",
    "# - If this cell results in any errors, check your previous cell, make changes, and RE-RUN your code and then this cell.\n",
    "import math\n",
    "assert( len(df_subject) == 174 ), \"You shouldn't be changing the length of `df_subject` when recomputing Average GPA.\"\n",
    "assert( \"Average GPA\" in df_subject.columns), \"Make sure your column is still named 'Average GPA'.\"\n",
    "assert( math.isclose(df_subject['Average GPA'].mean(), 3.474516261357219520825) ), \"Your calculation of the Average GPA by Subject is incorrect.\"\n",
    "\n",
    "## == SUCCESS MESSAGE ==\n",
    "# You'll only see this message (With the emoji showing) if you passed all test cases:\n",
    "tada = \"\\N{PARTY POPPER}\"\n",
    "print(f\"{tada} All tests passed! {tada}\")"
   ]
  },
  {
   "attachments": {},
   "cell_type": "markdown",
   "metadata": {},
   "source": [
    "### Puzzle 2.3: The \"Hardest\" and \"Easiest\" Subjects?\n",
    "One way we can judge a Subject's difficulty is to consider its **Average GPA**. \n",
    "\n",
    "Using your `df_subject`'s  `Average GPA` column and the two cells below, find:\n",
    "- The **10** Subjects with the **lowest** `Average GPA`, storing in the DataFrame `hard_subjects`\n",
    "- The **10** Subjects with the **highest** `Average GPA`, storing the DataFrame `easy_subjects` "
   ]
  },
  {
   "cell_type": "code",
   "execution_count": null,
   "metadata": {},
   "outputs": [],
   "source": [
    "hard_subjects = df_subject.nsmallest(10, \"Average GPA\")\n",
    "hard_subjects"
   ]
  },
  {
   "cell_type": "code",
   "execution_count": null,
   "metadata": {},
   "outputs": [],
   "source": [
    "easy_subjects = df_subject.nlargest(10, \"Average GPA\")\n",
    "easy_subjects"
   ]
  },
  {
   "cell_type": "markdown",
   "metadata": {},
   "source": [
    "### 🔬 Test Case Checkpoint 🔬"
   ]
  },
  {
   "cell_type": "code",
   "execution_count": null,
   "metadata": {},
   "outputs": [],
   "source": [
    "## == TEST CASES for Puzzle 2.3 ==\n",
    "# - This read-only cell contains test cases for your previous cell.\n",
    "# - If this cell runs without any error or output, you PASSED all test cases!\n",
    "# - If this cell results in any errors, check your previous cell, make changes, and RE-RUN your code and then this cell.\n",
    "import math\n",
    "assert( len(hard_subjects) == len(easy_subjects) == 10 ), \"Make sure you are selecting the ten hardest or easiest subjects by GPA. This means your hard_subjects and easy_subjects DataFrames should both have exactly ten rows.\"\n",
    "assert( math.isclose(hard_subjects['Average GPA'].sum(), 29.85307300716918) ), \"Your calculation for the hardest subjects by GPA is incorrect. Remember, here harder = lower Average GPA.\"\n",
    "assert( math.isclose(easy_subjects['Average GPA'].sum(), 38.50163903261125) ), \"Your calculation for the easiest subjects by GPA is incorrect. Remember, here easier = higher Average GPA.\"\n",
    "\n",
    "## == SUCCESS MESSAGE ==\n",
    "# You'll only see this message (With the emoji showing) if you passed all test cases:\n",
    "tada = \"\\N{PARTY POPPER}\"\n",
    "print(f\"{tada} All tests passed! {tada}\")"
   ]
  },
  {
   "attachments": {},
   "cell_type": "markdown",
   "metadata": {},
   "source": [
    "### Analysis: \"Hardest\" and \"Easiest\" Subjects? \n",
    "\n",
    "**Q3: Observe the `Subject` column of the `hard_subjects` and `easy_subjects` you've found in Puzzle 2.3 above. Do you think these are truly the \"Hardest\" and \"Easiest\" subjects at Illinois? Explain why or why not.** \n",
    "\n",
    "\n",
    "*Note: You can use http://catalog.illinois.edu/courses-of-instruction/ to find what the different `Subject` codes mean.*\n"
   ]
  },
  {
   "cell_type": "markdown",
   "metadata": {},
   "source": [
    "*(✏️\n",
    "Arguablly yes. However, the diffulty of a class can be skewed by the students, for example some students may performe better if they all enjoy the subject\n",
    " ✏️)*"
   ]
  },
  {
   "attachments": {},
   "cell_type": "markdown",
   "metadata": {},
   "source": [
    "### Puzzle 2.4: Visualizing GPA by Subject\n",
    "We've got the **Average GPA** of each `Subject`, but what if we want to look at the **bigger picture** across all subjects? Well, data visualization comes to the rescue!\n",
    "\n",
    "Generate a **histogram** of the **Average GPA** in your `df_subject`. Make sure your histogram looks nice and has the x-axis and y-axis labeled appropriately!"
   ]
  },
  {
   "cell_type": "code",
   "execution_count": 46,
   "metadata": {},
   "outputs": [
    {
     "data": {
      "text/plain": [
       "<Axes: xlabel='Subject', ylabel='Average GPA'>"
      ]
     },
     "execution_count": 46,
     "metadata": {},
     "output_type": "execute_result"
    },
    {
     "data": {
      "image/png": "[encoded data removed]",
      "text/plain": [
       "<Figure size 640x480 with 1 Axes>"
      ]
     },
     "metadata": {},
     "output_type": "display_data"
    }
   ],
   "source": [
    "df_subject.plot.hist(x = \"Subject\", y = \"Average GPA\", xlabel = \"Subject\", ylabel= \"Average GPA\")"
   ]
  },
  {
   "attachments": {},
   "cell_type": "markdown",
   "metadata": {},
   "source": [
    "### Analysis: Histogram Interpretations\n",
    "\n",
    "**Q4: Based on the histogram you generated above, what do you think the Average GPA across all courses in a typical Subject at UIUC is? No need for an exact answer, just estimate.** \n"
   ]
  },
  {
   "cell_type": "markdown",
   "metadata": {},
   "source": [
    "*(✏️ \n",
    "\n",
    "about a 3.45 average. Maybe a bit higher since the graph is skewed to the left.\n",
    "\n",
    " ✏️)*"
   ]
  },
  {
   "attachments": {},
   "cell_type": "markdown",
   "metadata": {},
   "source": [
    "### Puzzle 2.5: Your Major! \n",
    "We've done a lot of analysis on every course and every subject, but Data Science should also be personal to you!\n",
    "\n",
    "Using your `df_subject`, isolate the row containing the `Subject` of **your Major**, storing in the variable `my_subject`:\n",
    "\n",
    "(If you're undecided, you can pick any `Subject` you are interested in!)"
   ]
  },
  {
   "cell_type": "code",
   "execution_count": 45,
   "metadata": {},
   "outputs": [
    {
     "data": {
      "text/html": [
       "<div>\n",
       "<style scoped>\n",
       "    .dataframe tbody tr th:only-of-type {\n",
       "        vertical-align: middle;\n",
       "    }\n",
       "\n",
       "    .dataframe tbody tr th {\n",
       "        vertical-align: top;\n",
       "    }\n",
       "\n",
       "    .dataframe thead th {\n",
       "        text-align: right;\n",
       "    }\n",
       "</style>\n",
       "<table border=\"1\" class=\"dataframe\">\n",
       "  <thead>\n",
       "    <tr style=\"text-align: right;\">\n",
       "      <th></th>\n",
       "      <th>Subject</th>\n",
       "      <th>Year</th>\n",
       "      <th>Term</th>\n",
       "      <th>YearTerm</th>\n",
       "      <th>Number</th>\n",
       "      <th>Course Title</th>\n",
       "      <th>Sched Type</th>\n",
       "      <th>A+</th>\n",
       "      <th>A</th>\n",
       "      <th>A-</th>\n",
       "      <th>...</th>\n",
       "      <th>C</th>\n",
       "      <th>C-</th>\n",
       "      <th>D+</th>\n",
       "      <th>D</th>\n",
       "      <th>D-</th>\n",
       "      <th>F</th>\n",
       "      <th>W</th>\n",
       "      <th>Primary Instructor</th>\n",
       "      <th>Students</th>\n",
       "      <th>Average GPA</th>\n",
       "    </tr>\n",
       "  </thead>\n",
       "  <tbody>\n",
       "    <tr>\n",
       "      <th>57</th>\n",
       "      <td>ECON</td>\n",
       "      <td>7769515</td>\n",
       "      <td>WinterWinterWinterFallFallFallFallFallFallFall...</td>\n",
       "      <td>2024-wi2024-wi2024-wi2023-fa2023-fa2023-fa2023...</td>\n",
       "      <td>966233</td>\n",
       "      <td>Microeconomic PrinciplesMacroeconomic Principl...</td>\n",
       "      <td>ONLONLONLDISDISDISDISDISDISDISDISDISDISDISDISD...</td>\n",
       "      <td>22117</td>\n",
       "      <td>42231</td>\n",
       "      <td>21106</td>\n",
       "      <td>...</td>\n",
       "      <td>9521</td>\n",
       "      <td>4195</td>\n",
       "      <td>2668</td>\n",
       "      <td>3268</td>\n",
       "      <td>1561</td>\n",
       "      <td>4444</td>\n",
       "      <td>905</td>\n",
       "      <td>DiIanni, IsaacVazquez, Jose JSchultz, ColleenC...</td>\n",
       "      <td>170864</td>\n",
       "      <td>3.192452</td>\n",
       "    </tr>\n",
       "  </tbody>\n",
       "</table>\n",
       "<p>1 rows × 24 columns</p>\n",
       "</div>"
      ],
      "text/plain": [
       "   Subject     Year                                               Term  \\\n",
       "57    ECON  7769515  WinterWinterWinterFallFallFallFallFallFallFall...   \n",
       "\n",
       "                                             YearTerm  Number  \\\n",
       "57  2024-wi2024-wi2024-wi2023-fa2023-fa2023-fa2023...  966233   \n",
       "\n",
       "                                         Course Title  \\\n",
       "57  Microeconomic PrinciplesMacroeconomic Principl...   \n",
       "\n",
       "                                           Sched Type     A+      A     A-  \\\n",
       "57  ONLONLONLDISDISDISDISDISDISDISDISDISDISDISDISD...  22117  42231  21106   \n",
       "\n",
       "    ...     C    C-    D+     D    D-     F    W  \\\n",
       "57  ...  9521  4195  2668  3268  1561  4444  905   \n",
       "\n",
       "                                   Primary Instructor  Students  Average GPA  \n",
       "57  DiIanni, IsaacVazquez, Jose JSchultz, ColleenC...    170864     3.192452  \n",
       "\n",
       "[1 rows x 24 columns]"
      ]
     },
     "execution_count": 45,
     "metadata": {},
     "output_type": "execute_result"
    }
   ],
   "source": [
    "econ = df_subject[df_subject[\"Subject\"] == \"ECON\"]\n",
    "econ"
   ]
  },
  {
   "attachments": {},
   "cell_type": "markdown",
   "metadata": {},
   "source": [
    "### Analysis: Your Major's Average GPA\n",
    "\n",
    "**Q5: Observe the `Average GPA` column of your subject from Puzzle 2.5 above. Is it higher or lower than you expected? Explain why!** \n"
   ]
  },
  {
   "cell_type": "markdown",
   "metadata": {},
   "source": [
    "*(✏️ \n",
    "\n",
    "A bit lower than expected. Although it is a common major, econ degrees are frequently used to get into grad school, so I was expecting a higher gpa average. Although some of the classes are a difficult and demanding, my classmates are typically exchange students with interest in Law, Mathamatics, or Applied sciences.\n",
    "\n",
    " ✏️)*"
   ]
  },
  {
   "cell_type": "markdown",
   "metadata": {},
   "source": [
    "<hr style=\"color: #DD3403;\">"
   ]
  },
  {
   "attachments": {},
   "cell_type": "markdown",
   "metadata": {},
   "source": [
    "# Part 3: GPA By Year\n",
    "At this point, we've investigated the GPA Dataset as a whole and grouped by `Subject`. While our GPA Dataset contains **a lot** of course data, some of the listed courses are quite old: **dating back to 2010**!\n",
    "\n",
    "One can question the changes to GPA **over time**. Some questions may include:\n",
    "- Has GPA gone up, because classes became \"easier\"? \n",
    "- Has the GPA fallen because of stricter grading policies? \n",
    "- How was GPA impacted in 2019-2020 at the brunt of COVID? \n",
    "\n",
    "You will gain some insight into the answers to questions in this section of the lab. "
   ]
  },
  {
   "attachments": {},
   "cell_type": "markdown",
   "metadata": {},
   "source": [
    "### Puzzle 3.1: Exploring Different Years\n",
    "\n",
    "In the following cell, create a new DataFrame called `df_year` that has a single row for each year. In ``df_year``, each **letter grade column** should contain the **total number of students** receiving said grade in that `Year`. Make sure your DataFrame only contains numeric columns."
   ]
  },
  {
   "cell_type": "code",
   "execution_count": null,
   "metadata": {},
   "outputs": [],
   "source": [
    "df_year = df.groupby(\"Year\").agg(\"sum\").reset_index()\n",
    "df_year.head(3)"
   ]
  },
  {
   "cell_type": "markdown",
   "metadata": {},
   "source": [
    "### 🔬 Test Case Checkpoint 🔬"
   ]
  },
  {
   "cell_type": "code",
   "execution_count": null,
   "metadata": {},
   "outputs": [],
   "source": [
    "## == TEST CASE for Puzzle 3.1 ==\n",
    "# - This read-only cell contains test cases for your previous cell.\n",
    "# - If this cell runs without any errors, you PASSED all test cases!\n",
    "# - If this cell results in any errors, check your previous cell, make changes, and RE-RUN your code and then this cell.\n",
    "import math\n",
    "assert( 'df_year' in vars() ), \"Make sure your DataFrame grouped by Year is named 'df_year'.\" \n",
    "assert( len(df_year) == 15 ), \"Make sure you are grouping by 'Year'. There are 14 years in our original `df`, so the length of `df_year` should be 14.\"\n",
    "assert( math.isclose(df_year.Students.mean(), 274749.3333333333) ), \"Double-check that you are aggregating your df_year correctly.\"\n",
    "\n",
    "## == SUCCESS MESSAGE ==\n",
    "# You will only see this message (with the emoji showing) if you passed all test cases:\n",
    "tada = \"\\N{PARTY POPPER}\"\n",
    "print(f\"{tada} All tests passed! {tada}\")"
   ]
  },
  {
   "attachments": {},
   "cell_type": "markdown",
   "metadata": {},
   "source": [
    "### Puzzle 3.2: Fixing our `Average GPA` Column Again\n",
    "Some columns in `df_year` are incorrectly calculated given the way we've grouped the data.\n",
    "\n",
    "Let's fix this by redefining the `Average GPA` column in our `df_year`.\n",
    "\n",
    "The `Average GPA` column should contain the **weighted average GPA** of each `Year` by taking into account the **number of students** who received each letter grade in said `Year`. "
   ]
  },
  {
   "cell_type": "code",
   "execution_count": 42,
   "metadata": {},
   "outputs": [
    {
     "data": {
      "text/html": [
       "<div>\n",
       "<style scoped>\n",
       "    .dataframe tbody tr th:only-of-type {\n",
       "        vertical-align: middle;\n",
       "    }\n",
       "\n",
       "    .dataframe tbody tr th {\n",
       "        vertical-align: top;\n",
       "    }\n",
       "\n",
       "    .dataframe thead th {\n",
       "        text-align: right;\n",
       "    }\n",
       "</style>\n",
       "<table border=\"1\" class=\"dataframe\">\n",
       "  <thead>\n",
       "    <tr style=\"text-align: right;\">\n",
       "      <th></th>\n",
       "      <th>Year</th>\n",
       "      <th>Average GPA</th>\n",
       "      <th>A+</th>\n",
       "      <th>A</th>\n",
       "      <th>A-</th>\n",
       "      <th>B+</th>\n",
       "      <th>B</th>\n",
       "      <th>B-</th>\n",
       "      <th>C+</th>\n",
       "      <th>C</th>\n",
       "      <th>C-</th>\n",
       "      <th>D+</th>\n",
       "      <th>D</th>\n",
       "      <th>D-</th>\n",
       "      <th>F</th>\n",
       "    </tr>\n",
       "  </thead>\n",
       "  <tbody>\n",
       "    <tr>\n",
       "      <th>0</th>\n",
       "      <td>2010</td>\n",
       "      <td>3.233537</td>\n",
       "      <td>19355</td>\n",
       "      <td>77012</td>\n",
       "      <td>36814</td>\n",
       "      <td>30579</td>\n",
       "      <td>43517</td>\n",
       "      <td>17195</td>\n",
       "      <td>11604</td>\n",
       "      <td>15753</td>\n",
       "      <td>5812</td>\n",
       "      <td>2975</td>\n",
       "      <td>4438</td>\n",
       "      <td>1506</td>\n",
       "      <td>4511</td>\n",
       "    </tr>\n",
       "    <tr>\n",
       "      <th>1</th>\n",
       "      <td>2011</td>\n",
       "      <td>3.224523</td>\n",
       "      <td>19569</td>\n",
       "      <td>75526</td>\n",
       "      <td>36462</td>\n",
       "      <td>30987</td>\n",
       "      <td>42453</td>\n",
       "      <td>16776</td>\n",
       "      <td>11351</td>\n",
       "      <td>15844</td>\n",
       "      <td>6243</td>\n",
       "      <td>2910</td>\n",
       "      <td>4513</td>\n",
       "      <td>1679</td>\n",
       "      <td>4751</td>\n",
       "    </tr>\n",
       "    <tr>\n",
       "      <th>2</th>\n",
       "      <td>2012</td>\n",
       "      <td>3.253189</td>\n",
       "      <td>11834</td>\n",
       "      <td>44738</td>\n",
       "      <td>20603</td>\n",
       "      <td>17041</td>\n",
       "      <td>22408</td>\n",
       "      <td>9485</td>\n",
       "      <td>6515</td>\n",
       "      <td>8221</td>\n",
       "      <td>3307</td>\n",
       "      <td>1690</td>\n",
       "      <td>2218</td>\n",
       "      <td>936</td>\n",
       "      <td>2681</td>\n",
       "    </tr>\n",
       "    <tr>\n",
       "      <th>3</th>\n",
       "      <td>2013</td>\n",
       "      <td>3.250664</td>\n",
       "      <td>22541</td>\n",
       "      <td>81114</td>\n",
       "      <td>37513</td>\n",
       "      <td>30624</td>\n",
       "      <td>40241</td>\n",
       "      <td>17471</td>\n",
       "      <td>11611</td>\n",
       "      <td>14875</td>\n",
       "      <td>6367</td>\n",
       "      <td>3103</td>\n",
       "      <td>4263</td>\n",
       "      <td>1851</td>\n",
       "      <td>4895</td>\n",
       "    </tr>\n",
       "    <tr>\n",
       "      <th>4</th>\n",
       "      <td>2014</td>\n",
       "      <td>3.239539</td>\n",
       "      <td>25081</td>\n",
       "      <td>79289</td>\n",
       "      <td>36792</td>\n",
       "      <td>30749</td>\n",
       "      <td>38679</td>\n",
       "      <td>17724</td>\n",
       "      <td>11713</td>\n",
       "      <td>14802</td>\n",
       "      <td>6579</td>\n",
       "      <td>3252</td>\n",
       "      <td>4640</td>\n",
       "      <td>2073</td>\n",
       "      <td>5363</td>\n",
       "    </tr>\n",
       "    <tr>\n",
       "      <th>5</th>\n",
       "      <td>2015</td>\n",
       "      <td>3.266565</td>\n",
       "      <td>29032</td>\n",
       "      <td>87101</td>\n",
       "      <td>39378</td>\n",
       "      <td>31895</td>\n",
       "      <td>40221</td>\n",
       "      <td>18172</td>\n",
       "      <td>12281</td>\n",
       "      <td>14891</td>\n",
       "      <td>6576</td>\n",
       "      <td>3550</td>\n",
       "      <td>4528</td>\n",
       "      <td>2050</td>\n",
       "      <td>5572</td>\n",
       "    </tr>\n",
       "    <tr>\n",
       "      <th>6</th>\n",
       "      <td>2016</td>\n",
       "      <td>3.275508</td>\n",
       "      <td>29094</td>\n",
       "      <td>85548</td>\n",
       "      <td>37962</td>\n",
       "      <td>30278</td>\n",
       "      <td>37678</td>\n",
       "      <td>16759</td>\n",
       "      <td>11590</td>\n",
       "      <td>14199</td>\n",
       "      <td>6114</td>\n",
       "      <td>3333</td>\n",
       "      <td>4271</td>\n",
       "      <td>1964</td>\n",
       "      <td>5785</td>\n",
       "    </tr>\n",
       "    <tr>\n",
       "      <th>7</th>\n",
       "      <td>2017</td>\n",
       "      <td>3.301601</td>\n",
       "      <td>34941</td>\n",
       "      <td>92166</td>\n",
       "      <td>38295</td>\n",
       "      <td>29889</td>\n",
       "      <td>37541</td>\n",
       "      <td>16494</td>\n",
       "      <td>11117</td>\n",
       "      <td>14270</td>\n",
       "      <td>6130</td>\n",
       "      <td>3254</td>\n",
       "      <td>4600</td>\n",
       "      <td>2014</td>\n",
       "      <td>6151</td>\n",
       "    </tr>\n",
       "    <tr>\n",
       "      <th>8</th>\n",
       "      <td>2018</td>\n",
       "      <td>3.337883</td>\n",
       "      <td>40112</td>\n",
       "      <td>98711</td>\n",
       "      <td>39621</td>\n",
       "      <td>29546</td>\n",
       "      <td>35837</td>\n",
       "      <td>16123</td>\n",
       "      <td>10809</td>\n",
       "      <td>13421</td>\n",
       "      <td>5949</td>\n",
       "      <td>3339</td>\n",
       "      <td>4350</td>\n",
       "      <td>2042</td>\n",
       "      <td>6253</td>\n",
       "    </tr>\n",
       "    <tr>\n",
       "      <th>9</th>\n",
       "      <td>2019</td>\n",
       "      <td>3.339275</td>\n",
       "      <td>41642</td>\n",
       "      <td>104139</td>\n",
       "      <td>40875</td>\n",
       "      <td>30890</td>\n",
       "      <td>37332</td>\n",
       "      <td>16680</td>\n",
       "      <td>11203</td>\n",
       "      <td>13623</td>\n",
       "      <td>6117</td>\n",
       "      <td>3283</td>\n",
       "      <td>4434</td>\n",
       "      <td>2212</td>\n",
       "      <td>6914</td>\n",
       "    </tr>\n",
       "    <tr>\n",
       "      <th>10</th>\n",
       "      <td>2020</td>\n",
       "      <td>3.486988</td>\n",
       "      <td>56217</td>\n",
       "      <td>117054</td>\n",
       "      <td>38356</td>\n",
       "      <td>25531</td>\n",
       "      <td>29866</td>\n",
       "      <td>12637</td>\n",
       "      <td>8460</td>\n",
       "      <td>9944</td>\n",
       "      <td>4705</td>\n",
       "      <td>1802</td>\n",
       "      <td>2600</td>\n",
       "      <td>1153</td>\n",
       "      <td>5824</td>\n",
       "    </tr>\n",
       "    <tr>\n",
       "      <th>11</th>\n",
       "      <td>2021</td>\n",
       "      <td>3.429146</td>\n",
       "      <td>67828</td>\n",
       "      <td>125081</td>\n",
       "      <td>42930</td>\n",
       "      <td>29188</td>\n",
       "      <td>32980</td>\n",
       "      <td>14424</td>\n",
       "      <td>9965</td>\n",
       "      <td>12023</td>\n",
       "      <td>5673</td>\n",
       "      <td>3309</td>\n",
       "      <td>4061</td>\n",
       "      <td>2082</td>\n",
       "      <td>9272</td>\n",
       "    </tr>\n",
       "    <tr>\n",
       "      <th>12</th>\n",
       "      <td>2022</td>\n",
       "      <td>3.447320</td>\n",
       "      <td>63636</td>\n",
       "      <td>129419</td>\n",
       "      <td>42224</td>\n",
       "      <td>29724</td>\n",
       "      <td>33629</td>\n",
       "      <td>14653</td>\n",
       "      <td>9778</td>\n",
       "      <td>11950</td>\n",
       "      <td>5516</td>\n",
       "      <td>2837</td>\n",
       "      <td>3787</td>\n",
       "      <td>1806</td>\n",
       "      <td>8083</td>\n",
       "    </tr>\n",
       "    <tr>\n",
       "      <th>13</th>\n",
       "      <td>2023</td>\n",
       "      <td>3.507897</td>\n",
       "      <td>67629</td>\n",
       "      <td>128060</td>\n",
       "      <td>39819</td>\n",
       "      <td>26980</td>\n",
       "      <td>30140</td>\n",
       "      <td>13344</td>\n",
       "      <td>8618</td>\n",
       "      <td>10202</td>\n",
       "      <td>4577</td>\n",
       "      <td>2332</td>\n",
       "      <td>3145</td>\n",
       "      <td>1423</td>\n",
       "      <td>5848</td>\n",
       "    </tr>\n",
       "    <tr>\n",
       "      <th>14</th>\n",
       "      <td>2024</td>\n",
       "      <td>3.652891</td>\n",
       "      <td>582</td>\n",
       "      <td>762</td>\n",
       "      <td>197</td>\n",
       "      <td>114</td>\n",
       "      <td>111</td>\n",
       "      <td>48</td>\n",
       "      <td>35</td>\n",
       "      <td>42</td>\n",
       "      <td>11</td>\n",
       "      <td>4</td>\n",
       "      <td>20</td>\n",
       "      <td>5</td>\n",
       "      <td>27</td>\n",
       "    </tr>\n",
       "  </tbody>\n",
       "</table>\n",
       "</div>"
      ],
      "text/plain": [
       "    Year  Average GPA     A+       A     A-     B+      B     B-     C+  \\\n",
       "0   2010     3.233537  19355   77012  36814  30579  43517  17195  11604   \n",
       "1   2011     3.224523  19569   75526  36462  30987  42453  16776  11351   \n",
       "2   2012     3.253189  11834   44738  20603  17041  22408   9485   6515   \n",
       "3   2013     3.250664  22541   81114  37513  30624  40241  17471  11611   \n",
       "4   2014     3.239539  25081   79289  36792  30749  38679  17724  11713   \n",
       "5   2015     3.266565  29032   87101  39378  31895  40221  18172  12281   \n",
       "6   2016     3.275508  29094   85548  37962  30278  37678  16759  11590   \n",
       "7   2017     3.301601  34941   92166  38295  29889  37541  16494  11117   \n",
       "8   2018     3.337883  40112   98711  39621  29546  35837  16123  10809   \n",
       "9   2019     3.339275  41642  104139  40875  30890  37332  16680  11203   \n",
       "10  2020     3.486988  56217  117054  38356  25531  29866  12637   8460   \n",
       "11  2021     3.429146  67828  125081  42930  29188  32980  14424   9965   \n",
       "12  2022     3.447320  63636  129419  42224  29724  33629  14653   9778   \n",
       "13  2023     3.507897  67629  128060  39819  26980  30140  13344   8618   \n",
       "14  2024     3.652891    582     762    197    114    111     48     35   \n",
       "\n",
       "        C    C-    D+     D    D-     F  \n",
       "0   15753  5812  2975  4438  1506  4511  \n",
       "1   15844  6243  2910  4513  1679  4751  \n",
       "2    8221  3307  1690  2218   936  2681  \n",
       "3   14875  6367  3103  4263  1851  4895  \n",
       "4   14802  6579  3252  4640  2073  5363  \n",
       "5   14891  6576  3550  4528  2050  5572  \n",
       "6   14199  6114  3333  4271  1964  5785  \n",
       "7   14270  6130  3254  4600  2014  6151  \n",
       "8   13421  5949  3339  4350  2042  6253  \n",
       "9   13623  6117  3283  4434  2212  6914  \n",
       "10   9944  4705  1802  2600  1153  5824  \n",
       "11  12023  5673  3309  4061  2082  9272  \n",
       "12  11950  5516  2837  3787  1806  8083  \n",
       "13  10202  4577  2332  3145  1423  5848  \n",
       "14     42    11     4    20     5    27  "
      ]
     },
     "execution_count": 42,
     "metadata": {},
     "output_type": "execute_result"
    }
   ],
   "source": [
    "df_year[\"Average GPA\"] = (4*df_year[\"A+\"]) + (4*df_year[\"A\"]) + (3.67 *df_year[\"A-\"]) + (3.33*df_year[\"B+\"]) + (3*df_year[\"B\"]) + (2.67 *df_year[\"B-\"]) +(2.33*df_year[\"C+\"]) + (2*df_year[\"C\"]) + (1.67 *df_year[\"C-\"]) + (1.33*df_year[\"D+\"]) + (1*df_year[\"D\"]) + (0.67 *df_year[\"D-\"]) + (0 *df_year[\"F\"])\n",
    "df_year[\"Average GPA\"] = df_year[\"Average GPA\"] / df_year[\"Students\"]\n",
    "df_year.columns\n",
    "\n",
    "df_year[[\n",
    "    \"Year\",\n",
    "    \"Average GPA\",\n",
    "    \"A+\",\n",
    "    \"A\",\n",
    "    \"A-\",\n",
    "    \"B+\",\n",
    "    \"B\",\n",
    "    \"B-\",\n",
    "    \"C+\",\n",
    "    \"C\",\n",
    "    \"C-\",\n",
    "    \"D+\",\n",
    "    \"D\",\n",
    "    \"D-\",\n",
    "    \"F\"\n",
    "    ]\n",
    "]\n"
   ]
  },
  {
   "cell_type": "markdown",
   "metadata": {},
   "source": [
    "### 🔬 Test Case Checkpoint 🔬"
   ]
  },
  {
   "cell_type": "code",
   "execution_count": 33,
   "metadata": {},
   "outputs": [
    {
     "name": "stdout",
     "output_type": "stream",
     "text": [
      "🎉 All tests passed! 🎉\n"
     ]
    }
   ],
   "source": [
    "## == TEST CASE for Puzzle 3.2 ==\n",
    "# - This read-only cell contains test cases for your previous cell.\n",
    "# - If this cell runs without any errors, you PASSED all test cases!\n",
    "# - If this cell results in any errors, check your previous cell, make changes, and RE-RUN your code and then this cell.\n",
    "import math\n",
    "assert( len(df_year) == 15 ), \"You shouldn't be changing the length of `df_year` when recomputing Average GPA.\"\n",
    "assert( \"Average GPA\" in df_year.columns), \"Make sure your column is still named 'Average GPA'.\"\n",
    "assert( math.isclose(df_year['Average GPA'].mean(), 3.3497684856756313) ), \"Your calculation of the Average GPA by Year is incorrect.\"\n",
    "\n",
    "## == SUCCESS MESSAGE ==\n",
    "# You will only see this message (with the emoji showing) if you passed all test cases:\n",
    "tada = \"\\N{PARTY POPPER}\"\n",
    "print(f\"{tada} All tests passed! {tada}\")"
   ]
  },
  {
   "attachments": {},
   "cell_type": "markdown",
   "metadata": {},
   "source": [
    "### Puzzle 3.3: Visualizing GPA over Time\n",
    "We now have the data of the `Average GPA` across the University over time in years. Using this data, we can generate yet another visualization built-in to Pandas to visualize this data: a **line plot**! \n",
    "\n",
    "In the cell below, plot the **average GPA over time** using `df_year`. Make sure the x and y axis are labeled appropriately!"
   ]
  },
  {
   "cell_type": "code",
   "execution_count": 44,
   "metadata": {},
   "outputs": [
    {
     "data": {
      "text/plain": [
       "<Axes: xlabel='Year'>"
      ]
     },
     "execution_count": 44,
     "metadata": {},
     "output_type": "execute_result"
    },
    {
     "data": {
      "image/png": "[encoded data removed]",
      "text/plain": [
       "<Figure size 640x480 with 1 Axes>"
      ]
     },
     "metadata": {},
     "output_type": "display_data"
    }
   ],
   "source": [
    "df_year.plot.line(x =\"Year\", y = \"Average GPA\" )\n"
   ]
  },
  {
   "attachments": {},
   "cell_type": "markdown",
   "metadata": {},
   "source": [
    "***Side Note***: If you're using **Visual Studio Code** on **dark mode**, you may not be able to see the **axes** and **axes labels** of the graph. \n",
    "\n",
    "**Only if** this is the case, please **copy and run** the following **two lines** of code in a cell:\n",
    "\n",
    "---\n",
    "```py\n",
    "from matplotlib import style\n",
    "style.use('dark_background')\n",
    "```\n",
    "---\n",
    "\n",
    "And then **re-run your plotting code** above. "
   ]
  },
  {
   "attachments": {},
   "cell_type": "markdown",
   "metadata": {},
   "source": [
    "### Analysis: Plotted GPA over Time\n",
    "\n",
    "**Q6: Note a few observations you have about the changes to `Average GPA` at Illinois over time. Is there an overall trend? What events could have spiked increases to the Average GPA? Explain your answer in detail!** \n"
   ]
  },
  {
   "cell_type": "markdown",
   "metadata": {},
   "source": [
    "*(✏️ \n",
    "\n",
    "The average gpa has been increasing over the past few years. The spike occured in around 2020, this could be due to COVID-19 and students shifting to a remote setting. The increase in GPA could be of increased cheating, use of AI, and isolation from distractions becasue of quarentine. \n",
    "\n",
    " ✏️)*"
   ]
  },
  {
   "cell_type": "markdown",
   "metadata": {},
   "source": [
    "<hr style=\"color: #DD3403;\">"
   ]
  },
  {
   "cell_type": "markdown",
   "metadata": {},
   "source": [
    "# Submission\n",
    "\n",
    "You're almost done!  All you need to do is to commit your lab to GitHub:\n",
    "\n",
    "1.  ⚠️ **Make certain to save your work.** ⚠️ To do this, go to **File => Save All**\n",
    "\n",
    "2.  After you have saved, exit this notebook and follow the Canvas instructions to commit this lab to your Git repository!\n",
    "\n",
    "3. Your TA will grade your submission and provide you feedback after the lab is due. :)"
   ]
  }
 ],
 "metadata": {
  "kernelspec": {
   "display_name": "Python 3",
   "language": "python",
   "name": "python3"
  },
  "language_info": {
   "codemirror_mode": {
    "name": "ipython",
    "version": 3
   },
   "file_extension": ".py",
   "mimetype": "text/x-python",
   "name": "python",
   "nbconvert_exporter": "python",
   "pygments_lexer": "ipython3",
   "version": "3.12.8"
  },
  "vscode": {
   "interpreter": {
    "hash": "f48b0ea9e8281b29b1f9b6045fc5406bb9891af892053a27454c097f6ae51d2c"
   }
  }
 },
 "nbformat": 4,
 "nbformat_minor": 2
}
