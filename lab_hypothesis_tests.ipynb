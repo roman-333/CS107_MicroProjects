{
 "cells": [
  {
   "attachments": {},
   "cell_type": "markdown",
   "metadata": {},
   "source": [
    "# Lab: Hypothesis Tests 📔❔\n",
    "In this lab, you will conduct hypothesis tests on the Hello Dataset! \n",
    "\n",
    "A few tips to remember:\n",
    "\n",
    "- **You are not alone on your journey in learning programming!**  You have your lab TA, your CAs, your lab group, and the professors (Prof. Wade and Prof. Karle), who are all here to help you out!\n",
    "- If you find yourself stuck for more than a few minutes, ask a neighbor or course staff for help!  When you are giving help to your neighbor, explain the **idea and approach** to the problem without sharing the answer itself so they can have the same **<i>ah-hah</i>** moment!\n",
    "- We are here to help you!  Don't feel embarrassed or shy to ask us for help!\n",
    "\n",
    "Let's get started!"
   ]
  },
  {
   "cell_type": "code",
   "execution_count": 2,
   "metadata": {},
   "outputs": [],
   "source": [
    "# Meet your CAs and TA if you haven't already!\n",
    "# ...first name is enough, we'll know who they are! :)\n",
    "ta_name = \"Yu Bao\"\n",
    "ca1_name = \"\"\n",
    "ca2_name = \"\"\n",
    "ca3_name = \"\"\n",
    "\n",
    "# Say hello to each other!\n",
    "# - Groups of 3 are ideal :)\n",
    "# - However, groups of 2 or 4 are fine too!\n",
    "\n",
    "# QOTD to ask your group: What is your favorite Thanksgiving dinner food?\n",
    "partner1_name = \"Eric\"\n",
    "partner1_netid = \"\"\n",
    "partner1_favfood = \"\"\n",
    "\n",
    "partner2_name = \"Yide\"\n",
    "partner2_netid = \"\"\n",
    "partner2_favfood = \"\"\n",
    "\n",
    "partner3_name = \"\"\n",
    "partner3_netid = \"\"\n",
    "partner3_favfood = \"\"\n",
    "\n",
    "# Which lab section are you in? Record it below! It should start with a Y and have \n",
    "# 2 numbers after the Y. If you're unsure - ask your TA/CAs!\n",
    "lab_section = \"Y17\""
   ]
  },
  {
   "cell_type": "markdown",
   "metadata": {},
   "source": [
    "<hr style=\"color: #DD3403;\">"
   ]
  },
  {
   "attachments": {},
   "cell_type": "markdown",
   "metadata": {},
   "source": [
    "# Part 1: Siblings!\n",
    "Remember the Hello Survey you took towards the beginning of the semester? Well, we are bringing it back! We're going to conduct hypothesis tests using **the Hello Dataset**. Specifically, we will answer this question: \n",
    "\n",
    "> **Do UIUC students have a significantly different number of siblings compared to the average American?**\n",
    "\n",
    "First, as always, we must import the Hello Dataset. \n",
    "\n",
    "The \"Hello Dataset\" is available here:\n",
    "```\n",
    "https://waf.cs.illinois.edu/discovery/hello-sp25.csv\n",
    "```\n",
    "\n",
    "Use Python to load this dataset into a DataFrame called `df_hello`:"
   ]
  },
  {
   "cell_type": "code",
   "execution_count": 3,
   "metadata": {},
   "outputs": [
    {
     "data": {
      "text/html": [
       "<div>\n",
       "<style scoped>\n",
       "    .dataframe tbody tr th:only-of-type {\n",
       "        vertical-align: middle;\n",
       "    }\n",
       "\n",
       "    .dataframe tbody tr th {\n",
       "        vertical-align: top;\n",
       "    }\n",
       "\n",
       "    .dataframe thead th {\n",
       "        text-align: right;\n",
       "    }\n",
       "</style>\n",
       "<table border=\"1\" class=\"dataframe\">\n",
       "  <thead>\n",
       "    <tr style=\"text-align: right;\">\n",
       "      <th></th>\n",
       "      <th>Name</th>\n",
       "      <th>Lab</th>\n",
       "      <th>Do you use light mode or dark mode on VS code?</th>\n",
       "      <th>Would you rather be able to run 100 mph or fly 10 mph?</th>\n",
       "      <th>Flip a coin: heads or tails?</th>\n",
       "      <th>Do you prefer warm or cold weather vacations?</th>\n",
       "      <th>Are you 19 or older?</th>\n",
       "      <th>Is your last name alphabetically before \"Lin\"?</th>\n",
       "      <th>Are you following @datascienceduo on instagram?</th>\n",
       "      <th>Are you a Cubs or White Sox fan?</th>\n",
       "      <th>...</th>\n",
       "      <th>On average, how many squirrels do you think you see per week?</th>\n",
       "      <th>What year will you graduate?</th>\n",
       "      <th>What's your favorite social media app?</th>\n",
       "      <th>What is your dream job?</th>\n",
       "      <th>Who is your favorite musical artist?</th>\n",
       "      <th>What is your favorite course this semester?</th>\n",
       "      <th>Where is your dream vacation spot?</th>\n",
       "      <th>What is your favorite animal?</th>\n",
       "      <th>What is your favorite day of the week?</th>\n",
       "      <th>What's your favorite season?</th>\n",
       "    </tr>\n",
       "  </thead>\n",
       "  <tbody>\n",
       "    <tr>\n",
       "      <th>0</th>\n",
       "      <td>Prof. Karle</td>\n",
       "      <td>NaN</td>\n",
       "      <td>Dark Mode</td>\n",
       "      <td>Run 100 mph</td>\n",
       "      <td>Heads</td>\n",
       "      <td>Warm</td>\n",
       "      <td>Yes</td>\n",
       "      <td>Yes</td>\n",
       "      <td>Yes</td>\n",
       "      <td>Cubs</td>\n",
       "      <td>...</td>\n",
       "      <td>15.0</td>\n",
       "      <td>2012.0</td>\n",
       "      <td>instagram</td>\n",
       "      <td>UIUC professor</td>\n",
       "      <td>Taylor Swift</td>\n",
       "      <td>Stat 107</td>\n",
       "      <td>Maldives</td>\n",
       "      <td>sloth</td>\n",
       "      <td>Friday</td>\n",
       "      <td>summer</td>\n",
       "    </tr>\n",
       "    <tr>\n",
       "      <th>1</th>\n",
       "      <td>Prof. Wade</td>\n",
       "      <td>NaN</td>\n",
       "      <td>Dark Mode</td>\n",
       "      <td>Run 100 mph</td>\n",
       "      <td>Tails</td>\n",
       "      <td>Cold</td>\n",
       "      <td>Yes</td>\n",
       "      <td>Yes</td>\n",
       "      <td>Yes</td>\n",
       "      <td>Cubs</td>\n",
       "      <td>...</td>\n",
       "      <td>25.0</td>\n",
       "      <td>NaN</td>\n",
       "      <td>YouTube</td>\n",
       "      <td>Professor</td>\n",
       "      <td>Taylor Swift</td>\n",
       "      <td>DISCOVERY!</td>\n",
       "      <td>Mountain Hikes</td>\n",
       "      <td>Dog</td>\n",
       "      <td>Friday</td>\n",
       "      <td>Fall</td>\n",
       "    </tr>\n",
       "    <tr>\n",
       "      <th>2</th>\n",
       "      <td>CA Ethan</td>\n",
       "      <td>Y18</td>\n",
       "      <td>Dark Mode</td>\n",
       "      <td>Fly 10 mph</td>\n",
       "      <td>Tails</td>\n",
       "      <td>Warm</td>\n",
       "      <td>Yes</td>\n",
       "      <td>No</td>\n",
       "      <td>Yes</td>\n",
       "      <td>Cubs</td>\n",
       "      <td>...</td>\n",
       "      <td>12.0</td>\n",
       "      <td>2027.0</td>\n",
       "      <td>Instagram</td>\n",
       "      <td>Healthcare Software Developer</td>\n",
       "      <td>Tyler, The Creator</td>\n",
       "      <td>CS 374</td>\n",
       "      <td>Japan</td>\n",
       "      <td>Purple martin</td>\n",
       "      <td>Friday</td>\n",
       "      <td>Fall</td>\n",
       "    </tr>\n",
       "    <tr>\n",
       "      <th>3</th>\n",
       "      <td>Aadam</td>\n",
       "      <td>Y12</td>\n",
       "      <td>Dark Mode</td>\n",
       "      <td>Fly 10 mph</td>\n",
       "      <td>Tails</td>\n",
       "      <td>Warm</td>\n",
       "      <td>Yes</td>\n",
       "      <td>No</td>\n",
       "      <td>No</td>\n",
       "      <td>Cubs</td>\n",
       "      <td>...</td>\n",
       "      <td>5.0</td>\n",
       "      <td>2027.0</td>\n",
       "      <td>Instagram</td>\n",
       "      <td>Musician</td>\n",
       "      <td>Lil Uzi Vert</td>\n",
       "      <td>STAT 107</td>\n",
       "      <td>India</td>\n",
       "      <td>Dog</td>\n",
       "      <td>Saturday</td>\n",
       "      <td>Spring</td>\n",
       "    </tr>\n",
       "    <tr>\n",
       "      <th>4</th>\n",
       "      <td>Aadit</td>\n",
       "      <td>Y09</td>\n",
       "      <td>Dark Mode</td>\n",
       "      <td>Fly 10 mph</td>\n",
       "      <td>Tails</td>\n",
       "      <td>Warm</td>\n",
       "      <td>No</td>\n",
       "      <td>Yes</td>\n",
       "      <td>No</td>\n",
       "      <td>Cubs</td>\n",
       "      <td>...</td>\n",
       "      <td>50.0</td>\n",
       "      <td>2027.0</td>\n",
       "      <td>Instagram</td>\n",
       "      <td>Not sure yet</td>\n",
       "      <td>J. Cole</td>\n",
       "      <td>Linear Algebra</td>\n",
       "      <td>UP Michigan</td>\n",
       "      <td>Squirrel</td>\n",
       "      <td>Saturday</td>\n",
       "      <td>Summer</td>\n",
       "    </tr>\n",
       "    <tr>\n",
       "      <th>...</th>\n",
       "      <td>...</td>\n",
       "      <td>...</td>\n",
       "      <td>...</td>\n",
       "      <td>...</td>\n",
       "      <td>...</td>\n",
       "      <td>...</td>\n",
       "      <td>...</td>\n",
       "      <td>...</td>\n",
       "      <td>...</td>\n",
       "      <td>...</td>\n",
       "      <td>...</td>\n",
       "      <td>...</td>\n",
       "      <td>...</td>\n",
       "      <td>...</td>\n",
       "      <td>...</td>\n",
       "      <td>...</td>\n",
       "      <td>...</td>\n",
       "      <td>...</td>\n",
       "      <td>...</td>\n",
       "      <td>...</td>\n",
       "      <td>...</td>\n",
       "    </tr>\n",
       "    <tr>\n",
       "      <th>794</th>\n",
       "      <td>Zora</td>\n",
       "      <td>Y15</td>\n",
       "      <td>Dark Mode</td>\n",
       "      <td>Fly 10 mph</td>\n",
       "      <td>Heads</td>\n",
       "      <td>Warm</td>\n",
       "      <td>Yes</td>\n",
       "      <td>Yes</td>\n",
       "      <td>No</td>\n",
       "      <td>Sox</td>\n",
       "      <td>...</td>\n",
       "      <td>20.0</td>\n",
       "      <td>2028.0</td>\n",
       "      <td>Wechat</td>\n",
       "      <td>Employees of State-owned Enterprise</td>\n",
       "      <td>Taylor Swift</td>\n",
       "      <td>stat107</td>\n",
       "      <td>Egypt</td>\n",
       "      <td>rabbit</td>\n",
       "      <td>Saturday</td>\n",
       "      <td>summer</td>\n",
       "    </tr>\n",
       "    <tr>\n",
       "      <th>795</th>\n",
       "      <td>Nathan</td>\n",
       "      <td>Y04</td>\n",
       "      <td>Dark Mode</td>\n",
       "      <td>Run 100 mph</td>\n",
       "      <td>Tails</td>\n",
       "      <td>Warm</td>\n",
       "      <td>Yes</td>\n",
       "      <td>Yes</td>\n",
       "      <td>No</td>\n",
       "      <td>Cubs</td>\n",
       "      <td>...</td>\n",
       "      <td>15.0</td>\n",
       "      <td>2027.0</td>\n",
       "      <td>Tiktok</td>\n",
       "      <td>Something with stats</td>\n",
       "      <td>Kendrick lamar</td>\n",
       "      <td>Math 257</td>\n",
       "      <td>Hawaii</td>\n",
       "      <td>Dog</td>\n",
       "      <td>Friday</td>\n",
       "      <td>Summer</td>\n",
       "    </tr>\n",
       "    <tr>\n",
       "      <th>796</th>\n",
       "      <td>Brasen</td>\n",
       "      <td>Y15</td>\n",
       "      <td>Dark Mode</td>\n",
       "      <td>Run 100 mph</td>\n",
       "      <td>Heads</td>\n",
       "      <td>Warm</td>\n",
       "      <td>Yes</td>\n",
       "      <td>Yes</td>\n",
       "      <td>No</td>\n",
       "      <td>NaN</td>\n",
       "      <td>...</td>\n",
       "      <td>15.0</td>\n",
       "      <td>2028.0</td>\n",
       "      <td>TikTok</td>\n",
       "      <td>Makeup Artist</td>\n",
       "      <td>Awake</td>\n",
       "      <td>Adv 175</td>\n",
       "      <td>Bora Bora</td>\n",
       "      <td>Cheetah</td>\n",
       "      <td>Friday</td>\n",
       "      <td>Summer</td>\n",
       "    </tr>\n",
       "    <tr>\n",
       "      <th>797</th>\n",
       "      <td>Shaurya</td>\n",
       "      <td>Y13</td>\n",
       "      <td>Dark Mode</td>\n",
       "      <td>Run 100 mph</td>\n",
       "      <td>Tails</td>\n",
       "      <td>Warm</td>\n",
       "      <td>Yes</td>\n",
       "      <td>Yes</td>\n",
       "      <td>No</td>\n",
       "      <td>Cubs</td>\n",
       "      <td>...</td>\n",
       "      <td>3.0</td>\n",
       "      <td>2026.0</td>\n",
       "      <td>X</td>\n",
       "      <td>Quant</td>\n",
       "      <td>Drake</td>\n",
       "      <td>cs 341</td>\n",
       "      <td>Ibiza</td>\n",
       "      <td>dracula parrot</td>\n",
       "      <td>friday</td>\n",
       "      <td>Spring</td>\n",
       "    </tr>\n",
       "    <tr>\n",
       "      <th>798</th>\n",
       "      <td>Liam</td>\n",
       "      <td>Y07</td>\n",
       "      <td>Dark Mode</td>\n",
       "      <td>Run 100 mph</td>\n",
       "      <td>Tails</td>\n",
       "      <td>Warm</td>\n",
       "      <td>No</td>\n",
       "      <td>No</td>\n",
       "      <td>No</td>\n",
       "      <td>Sox</td>\n",
       "      <td>...</td>\n",
       "      <td>15.0</td>\n",
       "      <td>2028.0</td>\n",
       "      <td>TikTok</td>\n",
       "      <td>Sports Analyst</td>\n",
       "      <td>Young Thug</td>\n",
       "      <td>Stat107</td>\n",
       "      <td>Cayman Islands</td>\n",
       "      <td>Llama</td>\n",
       "      <td>Thursday</td>\n",
       "      <td>Summer</td>\n",
       "    </tr>\n",
       "  </tbody>\n",
       "</table>\n",
       "<p>799 rows × 147 columns</p>\n",
       "</div>"
      ],
      "text/plain": [
       "            Name  Lab Do you use light mode or dark mode on VS code?  \\\n",
       "0    Prof. Karle  NaN                                      Dark Mode   \n",
       "1     Prof. Wade  NaN                                      Dark Mode   \n",
       "2       CA Ethan  Y18                                      Dark Mode   \n",
       "3          Aadam  Y12                                      Dark Mode   \n",
       "4          Aadit  Y09                                      Dark Mode   \n",
       "..           ...  ...                                            ...   \n",
       "794         Zora  Y15                                      Dark Mode   \n",
       "795       Nathan  Y04                                      Dark Mode   \n",
       "796       Brasen  Y15                                      Dark Mode   \n",
       "797      Shaurya  Y13                                      Dark Mode   \n",
       "798         Liam  Y07                                      Dark Mode   \n",
       "\n",
       "    Would you rather be able to run 100 mph or fly 10 mph?  \\\n",
       "0                                          Run 100 mph       \n",
       "1                                          Run 100 mph       \n",
       "2                                           Fly 10 mph       \n",
       "3                                           Fly 10 mph       \n",
       "4                                           Fly 10 mph       \n",
       "..                                                 ...       \n",
       "794                                         Fly 10 mph       \n",
       "795                                        Run 100 mph       \n",
       "796                                        Run 100 mph       \n",
       "797                                        Run 100 mph       \n",
       "798                                        Run 100 mph       \n",
       "\n",
       "    Flip a coin: heads or tails?  \\\n",
       "0                          Heads   \n",
       "1                          Tails   \n",
       "2                          Tails   \n",
       "3                          Tails   \n",
       "4                          Tails   \n",
       "..                           ...   \n",
       "794                        Heads   \n",
       "795                        Tails   \n",
       "796                        Heads   \n",
       "797                        Tails   \n",
       "798                        Tails   \n",
       "\n",
       "    Do you prefer warm or cold weather vacations? Are you 19 or older?  \\\n",
       "0                                            Warm                  Yes   \n",
       "1                                            Cold                  Yes   \n",
       "2                                            Warm                  Yes   \n",
       "3                                            Warm                  Yes   \n",
       "4                                            Warm                   No   \n",
       "..                                            ...                  ...   \n",
       "794                                          Warm                  Yes   \n",
       "795                                          Warm                  Yes   \n",
       "796                                          Warm                  Yes   \n",
       "797                                          Warm                  Yes   \n",
       "798                                          Warm                   No   \n",
       "\n",
       "    Is your last name alphabetically before \"Lin\"?   \\\n",
       "0                                               Yes   \n",
       "1                                               Yes   \n",
       "2                                                No   \n",
       "3                                                No   \n",
       "4                                               Yes   \n",
       "..                                              ...   \n",
       "794                                             Yes   \n",
       "795                                             Yes   \n",
       "796                                             Yes   \n",
       "797                                             Yes   \n",
       "798                                              No   \n",
       "\n",
       "    Are you following @datascienceduo on instagram?  \\\n",
       "0                                               Yes   \n",
       "1                                               Yes   \n",
       "2                                               Yes   \n",
       "3                                                No   \n",
       "4                                                No   \n",
       "..                                              ...   \n",
       "794                                              No   \n",
       "795                                              No   \n",
       "796                                              No   \n",
       "797                                              No   \n",
       "798                                              No   \n",
       "\n",
       "    Are you a Cubs or White Sox fan?  ...  \\\n",
       "0                               Cubs  ...   \n",
       "1                               Cubs  ...   \n",
       "2                               Cubs  ...   \n",
       "3                               Cubs  ...   \n",
       "4                               Cubs  ...   \n",
       "..                               ...  ...   \n",
       "794                              Sox  ...   \n",
       "795                             Cubs  ...   \n",
       "796                              NaN  ...   \n",
       "797                             Cubs  ...   \n",
       "798                              Sox  ...   \n",
       "\n",
       "    On average, how many squirrels do you think you see per week?  \\\n",
       "0                                                 15.0              \n",
       "1                                                 25.0              \n",
       "2                                                 12.0              \n",
       "3                                                  5.0              \n",
       "4                                                 50.0              \n",
       "..                                                 ...              \n",
       "794                                               20.0              \n",
       "795                                               15.0              \n",
       "796                                               15.0              \n",
       "797                                                3.0              \n",
       "798                                               15.0              \n",
       "\n",
       "    What year will you graduate? What's your favorite social media app?  \\\n",
       "0                         2012.0                              instagram   \n",
       "1                            NaN                                YouTube   \n",
       "2                         2027.0                              Instagram   \n",
       "3                         2027.0                              Instagram   \n",
       "4                         2027.0                              Instagram   \n",
       "..                           ...                                    ...   \n",
       "794                       2028.0                                 Wechat   \n",
       "795                       2027.0                                 Tiktok   \n",
       "796                       2028.0                                 TikTok   \n",
       "797                       2026.0                                      X   \n",
       "798                       2028.0                                 TikTok   \n",
       "\n",
       "                 What is your dream job? Who is your favorite musical artist?  \\\n",
       "0                         UIUC professor                         Taylor Swift   \n",
       "1                              Professor                         Taylor Swift   \n",
       "2          Healthcare Software Developer                   Tyler, The Creator   \n",
       "3                               Musician                         Lil Uzi Vert   \n",
       "4                           Not sure yet                              J. Cole   \n",
       "..                                   ...                                  ...   \n",
       "794  Employees of State-owned Enterprise                         Taylor Swift   \n",
       "795                 Something with stats                       Kendrick lamar   \n",
       "796                        Makeup Artist                                Awake   \n",
       "797                                Quant                                Drake   \n",
       "798                       Sports Analyst                           Young Thug   \n",
       "\n",
       "    What is your favorite course this semester?  \\\n",
       "0                                      Stat 107   \n",
       "1                                    DISCOVERY!   \n",
       "2                                        CS 374   \n",
       "3                                      STAT 107   \n",
       "4                                Linear Algebra   \n",
       "..                                          ...   \n",
       "794                                     stat107   \n",
       "795                                    Math 257   \n",
       "796                                     Adv 175   \n",
       "797                                      cs 341   \n",
       "798                                     Stat107   \n",
       "\n",
       "    Where is your dream vacation spot? What is your favorite animal?  \\\n",
       "0                             Maldives                         sloth   \n",
       "1                       Mountain Hikes                           Dog   \n",
       "2                                Japan                 Purple martin   \n",
       "3                                India                           Dog   \n",
       "4                          UP Michigan                      Squirrel   \n",
       "..                                 ...                           ...   \n",
       "794                              Egypt                        rabbit   \n",
       "795                             Hawaii                           Dog   \n",
       "796                          Bora Bora                       Cheetah   \n",
       "797                              Ibiza                dracula parrot   \n",
       "798                     Cayman Islands                         Llama   \n",
       "\n",
       "    What is your favorite day of the week? What's your favorite season?  \n",
       "0                                   Friday                       summer  \n",
       "1                                   Friday                         Fall  \n",
       "2                                   Friday                         Fall  \n",
       "3                                 Saturday                       Spring  \n",
       "4                                 Saturday                       Summer  \n",
       "..                                     ...                          ...  \n",
       "794                               Saturday                       summer  \n",
       "795                                 Friday                       Summer  \n",
       "796                                 Friday                       Summer  \n",
       "797                                 friday                       Spring  \n",
       "798                               Thursday                       Summer  \n",
       "\n",
       "[799 rows x 147 columns]"
      ]
     },
     "execution_count": 3,
     "metadata": {},
     "output_type": "execute_result"
    }
   ],
   "source": [
    "import pandas as pd\n",
    "import numpy as np\n",
    "import math\n",
    "from scipy import stats\n",
    "\n",
    "df_hello = pd.read_csv(\"https://waf.cs.illinois.edu/discovery/hello-sp25.csv\")\n",
    "df_hello"
   ]
  },
  {
   "cell_type": "markdown",
   "metadata": {},
   "source": [
    "### 🔬 Test Case Checkpoint 🔬"
   ]
  },
  {
   "cell_type": "code",
   "execution_count": 4,
   "metadata": {},
   "outputs": [
    {
     "name": "stdout",
     "output_type": "stream",
     "text": [
      "🎉 All tests passed! 🎉\n"
     ]
    }
   ],
   "source": [
    "## == CHECKPOINT TEST CASES ==\n",
    "# - This read-only cell contains test cases for your previous cell.\n",
    "# - If this cell runs without any errors, you PASSED 373all test cases!\n",
    "# - If this cell results in any errors, check your previous cell, make changes, and RE-RUN your code and then this cell.\n",
    "assert(\"df_hello\" in vars()), \"Make sure your DataFrame is called `df_hello`.\"\n",
    "assert(\"How old were you when you stopped believing in Santa?\" in df_hello), \"This is not the Hello Dataset you're looking for. Check the URL.\"\n",
    "assert(len(df_hello) == 799), \"This is not the Hello Dataset you're looking for. Check the URL.\"\n",
    "\n",
    "## == SUCCESS MESSAGE ==\n",
    "# You will only see this message (with the emoji showing) if you passed all test cases:\n",
    "tada = \"\\N{PARTY POPPER}\"\n",
    "print(f\"{tada} All tests passed! {tada}\")"
   ]
  },
  {
   "attachments": {},
   "cell_type": "markdown",
   "metadata": {},
   "source": [
    "## Setting Up The Test\n",
    "In a recent survey, it was reported that the average number of siblings Americans have is **2.0566**.  \n",
    "\n",
    "To determine whether UIUC students have significantly more or less siblings than the average American, we will treat the **SPRING 2025 students in DISCOVERY** as a **random sample** of the student population at UIUC. Then, we will conduct a **one-sample z-test** to answer our question. \n",
    "\n",
    "Before we begin, we must define our hypotheses. Remember, the average number of siblings found in a recent study is **2.0566** siblings, and we want to determine if our random sample is **significantly different** from this average. \n",
    "\n",
    "**Q1: Write your null and alternative hypothesis using the cell below.** *Hint: you may find the following symbols useful for the alternative hypothesis: $\\neq$, >, < (double-click on this cell to copy whichever one you need)*"
   ]
  },
  {
   "cell_type": "markdown",
   "metadata": {},
   "source": [
    "*(✏️ Edit this cell to replace this text with your answer. ✏️)*"
   ]
  },
  {
   "cell_type": "markdown",
   "metadata": {},
   "source": [
    "## Puzzle 1.1: Summary Statistics\n",
    "Now that we've defined our hypotheses, we will need to find some basic **summary statistics** about the **average number of siblings** students in DISCOVERY have before we conduct our **z-test**. Our `df_hello` contains the number of siblings that students in DISCOVERY have under the column named \"How many siblings do you have?\".\n",
    "\n",
    "Assign this column name to a **string variable** named `siblings_question` using the cell below:"
   ]
  },
  {
   "cell_type": "code",
   "execution_count": 5,
   "metadata": {},
   "outputs": [],
   "source": [
    "siblings_question = \"How many siblings do you have?\""
   ]
  },
  {
   "cell_type": "markdown",
   "metadata": {},
   "source": [
    "Now, find the **mean number of siblings** of everyone in DISCOVERY, storing the result in the **variable** `siblings_mean`:"
   ]
  },
  {
   "cell_type": "code",
   "execution_count": 6,
   "metadata": {},
   "outputs": [
    {
     "data": {
      "text/plain": [
       "np.float64(1.4918648310387985)"
      ]
     },
     "execution_count": 6,
     "metadata": {},
     "output_type": "execute_result"
    }
   ],
   "source": [
    "siblings_mean = df_hello[siblings_question].mean()\n",
    "siblings_mean"
   ]
  },
  {
   "cell_type": "markdown",
   "metadata": {},
   "source": [
    "Next, find the **standard deviation** of the number of siblings of everyone in DISCOVERY, storing the result in the **variable** `siblings_std`:"
   ]
  },
  {
   "cell_type": "code",
   "execution_count": 7,
   "metadata": {},
   "outputs": [
    {
     "data": {
      "text/plain": [
       "np.float64(1.2199763347687036)"
      ]
     },
     "execution_count": 7,
     "metadata": {},
     "output_type": "execute_result"
    }
   ],
   "source": [
    "siblings_std = df_hello[siblings_question].std()\n",
    "siblings_std"
   ]
  },
  {
   "cell_type": "markdown",
   "metadata": {},
   "source": [
    "Finally, find the **sample size** we're using for this z-test, storing the result in the **variable** `sample_size`. \n",
    "\n",
    "There's something a little tricky about the data we have in this column. Some people haven't filled out the answer to this captivating question, causing `NaN` (empty) values to appear. Dealing with **null values** is a **common occurrence** in data science. To exclude empty values when finding the sample size, the `.count()` function will be useful, as it excludes cells with NaN values when counting columns or rows."
   ]
  },
  {
   "cell_type": "code",
   "execution_count": 8,
   "metadata": {},
   "outputs": [
    {
     "data": {
      "text/plain": [
       "np.int64(799)"
      ]
     },
     "execution_count": 8,
     "metadata": {},
     "output_type": "execute_result"
    }
   ],
   "source": [
    "sample_size = df_hello[siblings_question].count()\n",
    "sample_size"
   ]
  },
  {
   "cell_type": "markdown",
   "metadata": {},
   "source": [
    "### 🔬 Test Case Checkpoint 🔬"
   ]
  },
  {
   "cell_type": "code",
   "execution_count": 9,
   "metadata": {},
   "outputs": [
    {
     "name": "stdout",
     "output_type": "stream",
     "text": [
      "🎉 All tests passed! 🎉\n"
     ]
    }
   ],
   "source": [
    "## == CHECKPOINT TEST CASES ==\n",
    "# - This read-only cell contains test cases for your previous cell.\n",
    "# - If this cell runs without any errors, you PASSED all test cases!\n",
    "# - If this cell results in any errors, check your previous cell, make changes, and RE-RUN your code and then this cell.\n",
    "import math\n",
    "names = ['siblings_question', 'siblings_mean', 'siblings_std', 'sample_size']\n",
    "for name in names:\n",
    "    assert(name in vars()), \"Double check that your variables are named correctly.\"\n",
    "\n",
    "assert(isinstance(siblings_question, str)), \"Make sure your `siblings_question` is a string.\"\n",
    "assert(len(siblings_question) == 30), \"Make sure the `siblings_question` contains the value of the siblings question.\"\n",
    "assert(math.isclose(df_hello[siblings_question].var(), 1.4883422573956797)),\"Double check the column question text you've defined in 'siblings_question'.\" \n",
    "assert(math.isclose(siblings_mean, 1.4918648310387985)), \"Your 'siblings_mean' is incorrect.\"\n",
    "assert(math.isclose(siblings_std, 1.2199763347687036)), \"Your 'siblings_std' is incorrect.\"\n",
    "assert(sample_size**2 / 8 == 79800.125), \"Your 'sample_size' is incorrect. Make sure you are excluding empty values when finding the sample size.\"\n",
    "\n",
    "## == SUCCESS MESSAGE ==\n",
    "# You will only see this message (with the emoji showing) if you passed all test cases:\n",
    "tada = \"\\N{PARTY POPPER}\"\n",
    "print(f\"{tada} All tests passed! {tada}\")"
   ]
  },
  {
   "cell_type": "markdown",
   "metadata": {},
   "source": [
    "## Puzzle 1.2: Finding our P-value\n",
    "To find our p-value, we need to make sure to calculate the SE and our test statistic, z!\n",
    "\n",
    "To begin, calculate the **standard error** of the number of siblings of DISCOVERY students, storing the result in the **numeric variable** `standard_error`. "
   ]
  },
  {
   "cell_type": "code",
   "execution_count": 10,
   "metadata": {},
   "outputs": [
    {
     "data": {
      "text/plain": [
       "np.float64(0.04315966018261089)"
      ]
     },
     "execution_count": 10,
     "metadata": {},
     "output_type": "execute_result"
    }
   ],
   "source": [
    "standard_error = siblings_std / math.sqrt(sample_size)\n",
    "standard_error"
   ]
  },
  {
   "attachments": {},
   "cell_type": "markdown",
   "metadata": {},
   "source": [
    "Next, **calculate our test statistic** using the statistics you found previously, storing the result in the **numeric variable** `z_stat`. \n",
    "\n",
    "Remember that the average number of siblings Americans have is **2.0566**.  "
   ]
  },
  {
   "cell_type": "code",
   "execution_count": 14,
   "metadata": {},
   "outputs": [
    {
     "data": {
      "text/plain": [
       "np.float64(-13.084791830421649)"
      ]
     },
     "execution_count": 14,
     "metadata": {},
     "output_type": "execute_result"
    }
   ],
   "source": [
    "z_stat = (siblings_mean - 2.0566) / standard_error\n",
    "z_stat"
   ]
  },
  {
   "cell_type": "markdown",
   "metadata": {},
   "source": [
    "Now that we've **calculated and stored** the necessary statistics, we can calculate the **p-value** and start drawing conclusions about our hypotheses. For the purposes of this lab, we will utilize a significance level of $0.05$. \n",
    "\n",
    "Make sure to remember whether we are doing a one-tailed or two-tailed z-test when finding your p-value! Find it and store our p-value in the **variable** `p_value`."
   ]
  },
  {
   "cell_type": "code",
   "execution_count": 17,
   "metadata": {},
   "outputs": [
    {
     "data": {
      "text/plain": [
       "np.float64(4.02260712085467e-39)"
      ]
     },
     "execution_count": 17,
     "metadata": {},
     "output_type": "execute_result"
    }
   ],
   "source": [
    "p_value = 2 * (stats.norm.cdf((z_stat)))\n",
    "p_value"
   ]
  },
  {
   "cell_type": "markdown",
   "metadata": {},
   "source": [
    "### 🔬 Test Case Checkpoint 🔬"
   ]
  },
  {
   "cell_type": "code",
   "execution_count": 18,
   "metadata": {},
   "outputs": [
    {
     "name": "stdout",
     "output_type": "stream",
     "text": [
      "🎉 All tests passed! 🎉\n"
     ]
    }
   ],
   "source": [
    "## == CHECKPOINT TEST CASES ==\n",
    "# - This read-only cell contains test cases for your previous cell.\n",
    "# - If this cell runs without any errors, you PASSED all test cases!\n",
    "# - If this cell results in any errors, check your previous cell, make changes, and RE-RUN your code and then this cell.\n",
    "names = ['standard_error', 'z_stat', 'p_value']\n",
    "for name in names:\n",
    "    assert(name in vars()), \"Double check that your variables are named correctly.\"\n",
    "\n",
    "assert(math.isclose(standard_error, 0.04315966018261089)), \"Your 'standard_error' is incorrect.\"\n",
    "assert(math.isclose(z_stat, -13.084791830421649)), \"Your 'z_stat' is incorrect.\"\n",
    "assert(math.isclose(p_value, 4.0226071208546704e-39, abs_tol=1e-39)), \"Your 'p_value' is incorrect. Try and visualize the normal distribution and the areas to the left or right of your z_stat.\"\n",
    "\n",
    "## == SUCCESS MESSAGE ==\n",
    "# You will only see this message (with the emoji showing) if you passed all test cases:\n",
    "tada = \"\\N{PARTY POPPER}\"\n",
    "print(f\"{tada} All tests passed! {tada}\")"
   ]
  },
  {
   "attachments": {},
   "cell_type": "markdown",
   "metadata": {},
   "source": [
    "### Analysis: Interpretation \n",
    "**Q2: We have now calculated the p-value for our hypothesis test. Do we reject the null hypothesis? Explain why or why not. Explain what this means in the context of our original question: Do UIUC students have a significantly different number of siblings compared to the average American?**\n",
    "\n",
    "**Make sure you answer *all* parts of this question.**  Remember, our significance level is $0.05$.\n",
    "\n"
   ]
  },
  {
   "cell_type": "markdown",
   "metadata": {},
   "source": [
    "*(✏️ Edit this cell to replace this text with your answers. ✏️)*"
   ]
  },
  {
   "attachments": {},
   "cell_type": "markdown",
   "metadata": {},
   "source": [
    "## Doing it in Python\n",
    "We had to do a significant amount of calculations by hand to find our p-value. \n",
    "\n",
    "Luckily, Python has a few **libraries** which contain **functions** that allow us to conduct our hypothesis tests without doing the calculations by hand. \n",
    "\n",
    "Before we run these hypothesis test functions, we must **install** and `import` the library they belong to. \n",
    "\n",
    "To install the `statsmodels` library, try running any one of following commands in your **terminal** until successful installation:\n",
    "- `python3 -m pip install statsmodels`\n",
    "- `py -m pip install statsmodels`\n",
    "- `pip install statsmodels`\n",
    "- `pip3 install statsmodels`\n",
    "\n",
    "\n",
    "Then, **run** the following `import` statement:"
   ]
  },
  {
   "cell_type": "code",
   "execution_count": 19,
   "metadata": {},
   "outputs": [],
   "source": [
    "from statsmodels.stats.weightstats import ztest"
   ]
  },
  {
   "attachments": {},
   "cell_type": "markdown",
   "metadata": {},
   "source": [
    "This imports the `ztest()` function from the `statsmodels` library, allowing us to perform **z-tests** in Python. This function will take **three parameters** in the following order:\n",
    "1. A `list` of sampled values, where a `df[\"column\"]` is something that can be read as a list\n",
    "2. The **expected value** of the null hypothesis, specified using `value=`\n",
    "3. The **alternative hypothesis** to the null value (either 'two-sided', 'larger', or 'smaller', specified using `alternative=`)\n",
    "\n",
    "To learn more about **z-test function**, visit: https://www.statsmodels.org/dev/generated/statsmodels.stats.weightstats.ztest.html\n"
   ]
  },
  {
   "attachments": {},
   "cell_type": "markdown",
   "metadata": {},
   "source": [
    "## Puzzle 1.3: z-test in Python\n",
    "Now, let's run our z-test! Using the cell below, call the `ztest()` function to conduct our z-test and store the results in the variable `siblings_results`.\n",
    "\n",
    "Use your knowledge about our **type of hypothesis test** and the **national sibling average** to fill in the `...`\n",
    "- **IMPORTANT**: When doing the test, you must use `df[\"column\"].dropna()` to make sure to not include any `NaN values` since this z-test function requires that there are no missing values."
   ]
  },
  {
   "cell_type": "code",
   "execution_count": 20,
   "metadata": {},
   "outputs": [
    {
     "data": {
      "text/plain": [
       "(np.float64(-13.084791830421649), np.float64(4.02260712085467e-39))"
      ]
     },
     "execution_count": 20,
     "metadata": {},
     "output_type": "execute_result"
    }
   ],
   "source": [
    "siblings_results = ztest(df_hello[siblings_question].dropna(), value=2.0566, alternative='two-sided')\n",
    "siblings_results"
   ]
  },
  {
   "cell_type": "markdown",
   "metadata": {},
   "source": [
    "If you print `siblings_results`, it should be a pair of **two values** in the form of $(z, p)$ where $z$ is the test statistic and $p$ is the `p-value`. If done correctly, these values should be **almost identical** to what you calculated by hand. "
   ]
  },
  {
   "cell_type": "markdown",
   "metadata": {},
   "source": [
    "### 🔬 Test Case Checkpoint 🔬"
   ]
  },
  {
   "cell_type": "code",
   "execution_count": 21,
   "metadata": {},
   "outputs": [
    {
     "name": "stdout",
     "output_type": "stream",
     "text": [
      "🎉 All tests passed! 🎉\n"
     ]
    }
   ],
   "source": [
    "## == CHECKPOINT TEST CASES ==\n",
    "# - This read-only cell contains test cases for your previous cell.\n",
    "# - If this cell runs without any errors, you PASSED all test cases!\n",
    "# - If this cell results in any errors, check your previous cell, make changes, and RE-RUN your code and then this cell.\n",
    "assert('siblings_results' in vars()), \"Double check your variable name for z-test result. It should be named 'siblings_results'.\"\n",
    "assert(math.isclose(siblings_results[0], -13.084791830421649)), \"The z-stat of your z-test is incorrect.\"\n",
    "assert(math.isclose(siblings_results[1], 4.0226071208546704e-39, abs_tol=1e-39)), \"The p-value of your z-test is incorrect.\"\n",
    "assert(math.isclose(siblings_results[0], z_stat)), \"Your z-stat from siblings_result should be equivalent to the 'z_stat' variable defined earlier.\"\n",
    "assert(math.isclose(siblings_results[1], p_value, abs_tol=1e-39)), \"Your p-value from siblings_result should be equivalent to the 'p-value' variable defined earlier.\"\n",
    "\n",
    "## == SUCCESS MESSAGE ==\n",
    "# You will only see this message (with the emoji showing) if you passed all test cases:\n",
    "tada = \"\\N{PARTY POPPER}\"\n",
    "print(f\"{tada} All tests passed! {tada}\")"
   ]
  },
  {
   "cell_type": "markdown",
   "metadata": {},
   "source": [
    "<hr style=\"color: #DD3403;\">"
   ]
  },
  {
   "attachments": {},
   "cell_type": "markdown",
   "metadata": {},
   "source": [
    "# Part 2: Which lecture has more siblings?\n",
    "\n",
    "This semester there are 2 sections of Data Science DISCOVERY! One is at 10am and one is at 12pm. We are always curious if the students in the earlier class are different from the students in the later class! Let's say we think students in the 10am section have **less** siblings than the students in the 12pm section.\n",
    "\n",
    "Do a second hypothesis test to determine if the number of siblings in the 10am section is less than the number of siblings in the 12pm section. \n",
    "\n",
    "To answer, we will perform a **one-sided two-sample z-test**. Two-sample z-tests compare two samples to each other and are very common in statistics!"
   ]
  },
  {
   "cell_type": "markdown",
   "metadata": {},
   "source": [
    "### Defining Our Hypotheses\n",
    "**Q3: Define the null and alternative hypotheses using the cell below.**\n"
   ]
  },
  {
   "cell_type": "markdown",
   "metadata": {},
   "source": [
    "*(✏️ Edit this cell to replace this text with your answers. ✏️)*"
   ]
  },
  {
   "cell_type": "markdown",
   "metadata": {},
   "source": [
    "## Puzzle 2.1: Find the Columns\n",
    "Now, let's run the our z-test! \n",
    "\n",
    "To make our code **simpler and readable**, in the next cell, create two variables for future column subselection from our `df_hello`:\n",
    "1. A **string variable** named `section_question`, containing the **string**: \"Are you in the 10am lecture for Stat 107 or the 12pm lecture?\"\n",
    "2. A **string variable** named `siblings_question`, containing the **string**:  \"How many siblings do you have?\"\n"
   ]
  },
  {
   "cell_type": "code",
   "execution_count": 22,
   "metadata": {},
   "outputs": [],
   "source": [
    "section_question = \"Are you in the 10am lecture for Stat 107 or the 12pm lecture?\"\n",
    "siblings_question = \"How many siblings do you have?\""
   ]
  },
  {
   "cell_type": "markdown",
   "metadata": {},
   "source": [
    "## Puzzle 2.2: Create a clean DataFrame\n",
    "\n",
    "To do a two-sample z-test, every observation used **must contain data for BOTH** questions.  To clean up the DataFrame, we will need to do two steps:\n",
    "\n",
    "1. Create a DataFrame that contains ONLY the two columns we're working with, AND\n",
    "2. Drop any observations that have missing values in either column\n",
    "\n",
    "First, create a DataFrame called `df_2columns` containing only the two columns you identified above:\n",
    "\n",
    "*(If you need to refresh your memory on how to select multiple columns from a DataFrame, see our guide: [\"Working With Columns and Series in a DataFrame\", specifically the \"Multiple Columns\" section](https://discovery.cs.illinois.edu/guides/DataFrame-Fundamentals/working-with-columns-and-series-in-dataframes/#Creating-a-DataFrame-With-a-Subset-of-Columns).)*"
   ]
  },
  {
   "cell_type": "code",
   "execution_count": 23,
   "metadata": {},
   "outputs": [
    {
     "data": {
      "text/html": [
       "<div>\n",
       "<style scoped>\n",
       "    .dataframe tbody tr th:only-of-type {\n",
       "        vertical-align: middle;\n",
       "    }\n",
       "\n",
       "    .dataframe tbody tr th {\n",
       "        vertical-align: top;\n",
       "    }\n",
       "\n",
       "    .dataframe thead th {\n",
       "        text-align: right;\n",
       "    }\n",
       "</style>\n",
       "<table border=\"1\" class=\"dataframe\">\n",
       "  <thead>\n",
       "    <tr style=\"text-align: right;\">\n",
       "      <th></th>\n",
       "      <th>Are you in the 10am lecture for Stat 107 or the 12pm lecture?</th>\n",
       "      <th>How many siblings do you have?</th>\n",
       "    </tr>\n",
       "  </thead>\n",
       "  <tbody>\n",
       "    <tr>\n",
       "      <th>0</th>\n",
       "      <td>NaN</td>\n",
       "      <td>2</td>\n",
       "    </tr>\n",
       "    <tr>\n",
       "      <th>1</th>\n",
       "      <td>NaN</td>\n",
       "      <td>2</td>\n",
       "    </tr>\n",
       "    <tr>\n",
       "      <th>2</th>\n",
       "      <td>NaN</td>\n",
       "      <td>1</td>\n",
       "    </tr>\n",
       "    <tr>\n",
       "      <th>3</th>\n",
       "      <td>10am Lecture</td>\n",
       "      <td>1</td>\n",
       "    </tr>\n",
       "    <tr>\n",
       "      <th>4</th>\n",
       "      <td>12pm Lecture</td>\n",
       "      <td>1</td>\n",
       "    </tr>\n",
       "    <tr>\n",
       "      <th>...</th>\n",
       "      <td>...</td>\n",
       "      <td>...</td>\n",
       "    </tr>\n",
       "    <tr>\n",
       "      <th>794</th>\n",
       "      <td>10am Lecture</td>\n",
       "      <td>0</td>\n",
       "    </tr>\n",
       "    <tr>\n",
       "      <th>795</th>\n",
       "      <td>12pm Lecture</td>\n",
       "      <td>1</td>\n",
       "    </tr>\n",
       "    <tr>\n",
       "      <th>796</th>\n",
       "      <td>10am Lecture</td>\n",
       "      <td>2</td>\n",
       "    </tr>\n",
       "    <tr>\n",
       "      <th>797</th>\n",
       "      <td>12pm Lecture</td>\n",
       "      <td>0</td>\n",
       "    </tr>\n",
       "    <tr>\n",
       "      <th>798</th>\n",
       "      <td>12pm Lecture</td>\n",
       "      <td>1</td>\n",
       "    </tr>\n",
       "  </tbody>\n",
       "</table>\n",
       "<p>799 rows × 2 columns</p>\n",
       "</div>"
      ],
      "text/plain": [
       "    Are you in the 10am lecture for Stat 107 or the 12pm lecture?  \\\n",
       "0                                                  NaN              \n",
       "1                                                  NaN              \n",
       "2                                                  NaN              \n",
       "3                                         10am Lecture              \n",
       "4                                         12pm Lecture              \n",
       "..                                                 ...              \n",
       "794                                       10am Lecture              \n",
       "795                                       12pm Lecture              \n",
       "796                                       10am Lecture              \n",
       "797                                       12pm Lecture              \n",
       "798                                       12pm Lecture              \n",
       "\n",
       "     How many siblings do you have?  \n",
       "0                                 2  \n",
       "1                                 2  \n",
       "2                                 1  \n",
       "3                                 1  \n",
       "4                                 1  \n",
       "..                              ...  \n",
       "794                               0  \n",
       "795                               1  \n",
       "796                               2  \n",
       "797                               0  \n",
       "798                               1  \n",
       "\n",
       "[799 rows x 2 columns]"
      ]
     },
     "execution_count": 23,
     "metadata": {},
     "output_type": "execute_result"
    }
   ],
   "source": [
    "df_2columns = df_hello[[section_question, siblings_question]]\n",
    "df_2columns"
   ]
  },
  {
   "cell_type": "markdown",
   "metadata": {},
   "source": [
    "### Drop the Rows with Missing Data"
   ]
  },
  {
   "cell_type": "markdown",
   "metadata": {},
   "source": [
    "Create a DataFrame called `df_clean`, by taking `df_2columns` and using `.dropna()` to drop all rows with missing data:"
   ]
  },
  {
   "cell_type": "code",
   "execution_count": 24,
   "metadata": {},
   "outputs": [
    {
     "data": {
      "text/html": [
       "<div>\n",
       "<style scoped>\n",
       "    .dataframe tbody tr th:only-of-type {\n",
       "        vertical-align: middle;\n",
       "    }\n",
       "\n",
       "    .dataframe tbody tr th {\n",
       "        vertical-align: top;\n",
       "    }\n",
       "\n",
       "    .dataframe thead th {\n",
       "        text-align: right;\n",
       "    }\n",
       "</style>\n",
       "<table border=\"1\" class=\"dataframe\">\n",
       "  <thead>\n",
       "    <tr style=\"text-align: right;\">\n",
       "      <th></th>\n",
       "      <th>Are you in the 10am lecture for Stat 107 or the 12pm lecture?</th>\n",
       "      <th>How many siblings do you have?</th>\n",
       "    </tr>\n",
       "  </thead>\n",
       "  <tbody>\n",
       "    <tr>\n",
       "      <th>3</th>\n",
       "      <td>10am Lecture</td>\n",
       "      <td>1</td>\n",
       "    </tr>\n",
       "    <tr>\n",
       "      <th>4</th>\n",
       "      <td>12pm Lecture</td>\n",
       "      <td>1</td>\n",
       "    </tr>\n",
       "    <tr>\n",
       "      <th>5</th>\n",
       "      <td>10am Lecture</td>\n",
       "      <td>1</td>\n",
       "    </tr>\n",
       "    <tr>\n",
       "      <th>6</th>\n",
       "      <td>12pm Lecture</td>\n",
       "      <td>1</td>\n",
       "    </tr>\n",
       "    <tr>\n",
       "      <th>7</th>\n",
       "      <td>12pm Lecture</td>\n",
       "      <td>1</td>\n",
       "    </tr>\n",
       "    <tr>\n",
       "      <th>...</th>\n",
       "      <td>...</td>\n",
       "      <td>...</td>\n",
       "    </tr>\n",
       "    <tr>\n",
       "      <th>794</th>\n",
       "      <td>10am Lecture</td>\n",
       "      <td>0</td>\n",
       "    </tr>\n",
       "    <tr>\n",
       "      <th>795</th>\n",
       "      <td>12pm Lecture</td>\n",
       "      <td>1</td>\n",
       "    </tr>\n",
       "    <tr>\n",
       "      <th>796</th>\n",
       "      <td>10am Lecture</td>\n",
       "      <td>2</td>\n",
       "    </tr>\n",
       "    <tr>\n",
       "      <th>797</th>\n",
       "      <td>12pm Lecture</td>\n",
       "      <td>0</td>\n",
       "    </tr>\n",
       "    <tr>\n",
       "      <th>798</th>\n",
       "      <td>12pm Lecture</td>\n",
       "      <td>1</td>\n",
       "    </tr>\n",
       "  </tbody>\n",
       "</table>\n",
       "<p>782 rows × 2 columns</p>\n",
       "</div>"
      ],
      "text/plain": [
       "    Are you in the 10am lecture for Stat 107 or the 12pm lecture?  \\\n",
       "3                                         10am Lecture              \n",
       "4                                         12pm Lecture              \n",
       "5                                         10am Lecture              \n",
       "6                                         12pm Lecture              \n",
       "7                                         12pm Lecture              \n",
       "..                                                 ...              \n",
       "794                                       10am Lecture              \n",
       "795                                       12pm Lecture              \n",
       "796                                       10am Lecture              \n",
       "797                                       12pm Lecture              \n",
       "798                                       12pm Lecture              \n",
       "\n",
       "     How many siblings do you have?  \n",
       "3                                 1  \n",
       "4                                 1  \n",
       "5                                 1  \n",
       "6                                 1  \n",
       "7                                 1  \n",
       "..                              ...  \n",
       "794                               0  \n",
       "795                               1  \n",
       "796                               2  \n",
       "797                               0  \n",
       "798                               1  \n",
       "\n",
       "[782 rows x 2 columns]"
      ]
     },
     "execution_count": 24,
     "metadata": {},
     "output_type": "execute_result"
    }
   ],
   "source": [
    "df_clean = df_2columns.dropna()\n",
    "df_clean"
   ]
  },
  {
   "cell_type": "markdown",
   "metadata": {},
   "source": [
    "### 🔬 Test Case Checkpoint 🔬"
   ]
  },
  {
   "cell_type": "code",
   "execution_count": 25,
   "metadata": {},
   "outputs": [
    {
     "name": "stdout",
     "output_type": "stream",
     "text": [
      "🎉 All tests passed! 🎉\n"
     ]
    }
   ],
   "source": [
    "## == CHECKPOINT TEST CASES ==\n",
    "# - This read-only cell contains test cases for your previous cell.\n",
    "# - If this cell runs without any errors, you PASSED all test cases!\n",
    "# - If this cell results in any errors, check your previous cell, make changes, and RE-RUN your code and then this cell.\n",
    "assert('siblings_question' in vars()), \"You must define the `siblings_question` question.\"\n",
    "assert('section_question' in vars()), \"You must define the `section_question` question.\"\n",
    "assert('df_clean' in vars()), \"Your new DataFrame should be named df_clean.\"\n",
    "\n",
    "assert(isinstance(siblings_question, str)), \"Make sure your `siblings_question` is a string.\"\n",
    "assert(isinstance(section_question, str)), \"Make sure your `section_question` is a string.\"\n",
    "\n",
    "assert(siblings_question in df_clean), \"Your DataFrame must contain the `siblings_question`.\"\n",
    "assert(section_question in df_clean), \"Your DataFrame must contain the `section_question`.\"\n",
    "assert(len(df_clean.columns) == 2), \"Your DataFrame must contain only two columns.\"\n",
    "\n",
    "assert(math.isclose(df_clean[siblings_question].std(), 1.2268099666333623)), \"Double check the column question text you've defined in 'siblings_question'.\" \n",
    "\n",
    "assert(df_clean[siblings_question].isnull().any() == False), \"There are still NaN values in the siblings_question column.\"\n",
    "assert(df_clean[section_question].isnull().any() == False), \"There are still NaN values in the section_question column.\"\n",
    "\n",
    "assert(len(df_clean) == 782), \"Your DataFrame should contain exactly 782 rows after dropping data.\"\n",
    "\n",
    "## == SUCCESS MESSAGE ==\n",
    "# You will only see this message (with the emoji showing) if you passed all test cases:\n",
    "tada = \"\\N{PARTY POPPER}\"\n",
    "print(f\"{tada} All tests passed! {tada}\")"
   ]
  },
  {
   "cell_type": "markdown",
   "metadata": {},
   "source": [
    "## Puzzle 2.3: Creating our Two Subpopulations\n",
    "\n",
    "Now that we have cleaned our columns in `df_clean`, we can continue with our z-test setup. \n",
    "\n",
    "For this, we will consider the group of everyone who said they were in the **10am Lecture** and everyone who said they were in the **12pm Lecture**.\n",
    "\n",
    "Using your `section_question` variable, create **two** new `DataFrames`: \n",
    "- `df_10am`, containing the rows from `df_clean` with students who are **10am Lecture**.\n",
    "- `df_12pm`, containing the rows from `df_clean` with students who are **12pm Lecture**."
   ]
  },
  {
   "cell_type": "code",
   "execution_count": 26,
   "metadata": {},
   "outputs": [
    {
     "data": {
      "text/html": [
       "<div>\n",
       "<style scoped>\n",
       "    .dataframe tbody tr th:only-of-type {\n",
       "        vertical-align: middle;\n",
       "    }\n",
       "\n",
       "    .dataframe tbody tr th {\n",
       "        vertical-align: top;\n",
       "    }\n",
       "\n",
       "    .dataframe thead th {\n",
       "        text-align: right;\n",
       "    }\n",
       "</style>\n",
       "<table border=\"1\" class=\"dataframe\">\n",
       "  <thead>\n",
       "    <tr style=\"text-align: right;\">\n",
       "      <th></th>\n",
       "      <th>Are you in the 10am lecture for Stat 107 or the 12pm lecture?</th>\n",
       "      <th>How many siblings do you have?</th>\n",
       "    </tr>\n",
       "  </thead>\n",
       "  <tbody>\n",
       "    <tr>\n",
       "      <th>3</th>\n",
       "      <td>10am Lecture</td>\n",
       "      <td>1</td>\n",
       "    </tr>\n",
       "    <tr>\n",
       "      <th>5</th>\n",
       "      <td>10am Lecture</td>\n",
       "      <td>1</td>\n",
       "    </tr>\n",
       "    <tr>\n",
       "      <th>13</th>\n",
       "      <td>10am Lecture</td>\n",
       "      <td>2</td>\n",
       "    </tr>\n",
       "    <tr>\n",
       "      <th>18</th>\n",
       "      <td>10am Lecture</td>\n",
       "      <td>5</td>\n",
       "    </tr>\n",
       "    <tr>\n",
       "      <th>20</th>\n",
       "      <td>10am Lecture</td>\n",
       "      <td>4</td>\n",
       "    </tr>\n",
       "    <tr>\n",
       "      <th>...</th>\n",
       "      <td>...</td>\n",
       "      <td>...</td>\n",
       "    </tr>\n",
       "    <tr>\n",
       "      <th>788</th>\n",
       "      <td>10am Lecture</td>\n",
       "      <td>1</td>\n",
       "    </tr>\n",
       "    <tr>\n",
       "      <th>791</th>\n",
       "      <td>10am Lecture</td>\n",
       "      <td>1</td>\n",
       "    </tr>\n",
       "    <tr>\n",
       "      <th>793</th>\n",
       "      <td>10am Lecture</td>\n",
       "      <td>0</td>\n",
       "    </tr>\n",
       "    <tr>\n",
       "      <th>794</th>\n",
       "      <td>10am Lecture</td>\n",
       "      <td>0</td>\n",
       "    </tr>\n",
       "    <tr>\n",
       "      <th>796</th>\n",
       "      <td>10am Lecture</td>\n",
       "      <td>2</td>\n",
       "    </tr>\n",
       "  </tbody>\n",
       "</table>\n",
       "<p>377 rows × 2 columns</p>\n",
       "</div>"
      ],
      "text/plain": [
       "    Are you in the 10am lecture for Stat 107 or the 12pm lecture?  \\\n",
       "3                                         10am Lecture              \n",
       "5                                         10am Lecture              \n",
       "13                                        10am Lecture              \n",
       "18                                        10am Lecture              \n",
       "20                                        10am Lecture              \n",
       "..                                                 ...              \n",
       "788                                       10am Lecture              \n",
       "791                                       10am Lecture              \n",
       "793                                       10am Lecture              \n",
       "794                                       10am Lecture              \n",
       "796                                       10am Lecture              \n",
       "\n",
       "     How many siblings do you have?  \n",
       "3                                 1  \n",
       "5                                 1  \n",
       "13                                2  \n",
       "18                                5  \n",
       "20                                4  \n",
       "..                              ...  \n",
       "788                               1  \n",
       "791                               1  \n",
       "793                               0  \n",
       "794                               0  \n",
       "796                               2  \n",
       "\n",
       "[377 rows x 2 columns]"
      ]
     },
     "execution_count": 26,
     "metadata": {},
     "output_type": "execute_result"
    }
   ],
   "source": [
    "df_10am = df_clean[df_clean[section_question] == \"10am Lecture\"]\n",
    "df_10am"
   ]
  },
  {
   "cell_type": "code",
   "execution_count": 27,
   "metadata": {},
   "outputs": [
    {
     "data": {
      "text/html": [
       "<div>\n",
       "<style scoped>\n",
       "    .dataframe tbody tr th:only-of-type {\n",
       "        vertical-align: middle;\n",
       "    }\n",
       "\n",
       "    .dataframe tbody tr th {\n",
       "        vertical-align: top;\n",
       "    }\n",
       "\n",
       "    .dataframe thead th {\n",
       "        text-align: right;\n",
       "    }\n",
       "</style>\n",
       "<table border=\"1\" class=\"dataframe\">\n",
       "  <thead>\n",
       "    <tr style=\"text-align: right;\">\n",
       "      <th></th>\n",
       "      <th>Are you in the 10am lecture for Stat 107 or the 12pm lecture?</th>\n",
       "      <th>How many siblings do you have?</th>\n",
       "    </tr>\n",
       "  </thead>\n",
       "  <tbody>\n",
       "    <tr>\n",
       "      <th>4</th>\n",
       "      <td>12pm Lecture</td>\n",
       "      <td>1</td>\n",
       "    </tr>\n",
       "    <tr>\n",
       "      <th>6</th>\n",
       "      <td>12pm Lecture</td>\n",
       "      <td>1</td>\n",
       "    </tr>\n",
       "    <tr>\n",
       "      <th>7</th>\n",
       "      <td>12pm Lecture</td>\n",
       "      <td>1</td>\n",
       "    </tr>\n",
       "    <tr>\n",
       "      <th>8</th>\n",
       "      <td>12pm Lecture</td>\n",
       "      <td>3</td>\n",
       "    </tr>\n",
       "    <tr>\n",
       "      <th>9</th>\n",
       "      <td>12pm Lecture</td>\n",
       "      <td>0</td>\n",
       "    </tr>\n",
       "    <tr>\n",
       "      <th>...</th>\n",
       "      <td>...</td>\n",
       "      <td>...</td>\n",
       "    </tr>\n",
       "    <tr>\n",
       "      <th>790</th>\n",
       "      <td>12pm Lecture</td>\n",
       "      <td>0</td>\n",
       "    </tr>\n",
       "    <tr>\n",
       "      <th>792</th>\n",
       "      <td>12pm Lecture</td>\n",
       "      <td>3</td>\n",
       "    </tr>\n",
       "    <tr>\n",
       "      <th>795</th>\n",
       "      <td>12pm Lecture</td>\n",
       "      <td>1</td>\n",
       "    </tr>\n",
       "    <tr>\n",
       "      <th>797</th>\n",
       "      <td>12pm Lecture</td>\n",
       "      <td>0</td>\n",
       "    </tr>\n",
       "    <tr>\n",
       "      <th>798</th>\n",
       "      <td>12pm Lecture</td>\n",
       "      <td>1</td>\n",
       "    </tr>\n",
       "  </tbody>\n",
       "</table>\n",
       "<p>405 rows × 2 columns</p>\n",
       "</div>"
      ],
      "text/plain": [
       "    Are you in the 10am lecture for Stat 107 or the 12pm lecture?  \\\n",
       "4                                         12pm Lecture              \n",
       "6                                         12pm Lecture              \n",
       "7                                         12pm Lecture              \n",
       "8                                         12pm Lecture              \n",
       "9                                         12pm Lecture              \n",
       "..                                                 ...              \n",
       "790                                       12pm Lecture              \n",
       "792                                       12pm Lecture              \n",
       "795                                       12pm Lecture              \n",
       "797                                       12pm Lecture              \n",
       "798                                       12pm Lecture              \n",
       "\n",
       "     How many siblings do you have?  \n",
       "4                                 1  \n",
       "6                                 1  \n",
       "7                                 1  \n",
       "8                                 3  \n",
       "9                                 0  \n",
       "..                              ...  \n",
       "790                               0  \n",
       "792                               3  \n",
       "795                               1  \n",
       "797                               0  \n",
       "798                               1  \n",
       "\n",
       "[405 rows x 2 columns]"
      ]
     },
     "execution_count": 27,
     "metadata": {},
     "output_type": "execute_result"
    }
   ],
   "source": [
    "df_12pm = df_clean[df_clean[section_question] == \"12pm Lecture\"]\n",
    "df_12pm"
   ]
  },
  {
   "cell_type": "code",
   "execution_count": 28,
   "metadata": {},
   "outputs": [
    {
     "name": "stdout",
     "output_type": "stream",
     "text": [
      "🎉 All tests passed! 🎉\n"
     ]
    }
   ],
   "source": [
    "## == CHECKPOINT TEST CASES ==\n",
    "# - This read-only cell contains test cases for your previous cell.\n",
    "# - If this cell runs without any errors, you PASSED all test cases!\n",
    "# - If this cell results in any errors, check your previous cell, make changes, and RE-RUN your code and then this cell.\n",
    "assert('df_10am' in vars()), \"Your new DataFrame should be named df_10am.\"\n",
    "assert('df_12pm' in vars()), \"Your new DataFrame should be named df_12pm.\"\n",
    "assert(len(df_10am) == 377), \"Double check that your bounds for df_10am is correct.\"\n",
    "assert(len(df_12pm) == 405), \"Double check that your bounds for df_12pm is correct.\"\n",
    "\n",
    "## == SUCCESS MESSAGE ==\n",
    "# You will only see this message (with the emoji showing) if you passed all test cases:\n",
    "tada = \"\\N{PARTY POPPER}\"\n",
    "print(f\"{tada} All tests passed! {tada}\")"
   ]
  },
  {
   "attachments": {},
   "cell_type": "markdown",
   "metadata": {},
   "source": [
    "## Puzzle 2.4: Conducting the Hypothesis Test\n",
    "Now we have the samples we need for our **two-sample z-test**.\n",
    "\n",
    "Now, let's run the our z-test! Using the cell below, call the `ztest()` function to conduct our z-test and store the results in the variable `section_results`.\n",
    "\n",
    "- Hint: See the documentation on the z-test to see how to do a two sample z-test if you forgot! It's very similar to the one-sample z-tests we did in the previous puzzles!  https://www.statsmodels.org/dev/generated/statsmodels.stats.weightstats.ztest.html\n",
    "- When choosing the order of your lists and the `alternative` parameter for the `ztest()` function, know that your choice for the `alternative` parameter will be the relationship of your **first list** to your **second list**.\n",
    "\n",
    "❗ ❗ This is now on YOU as a Data Scientist ❗ ❗\n",
    "- In STAT 207, you will have no test cases, so we want to get you ready for being a data scientist without the reliance of test cases.\n",
    "- For this last piece of code, there is NO test case.\n",
    "- Instead, it's up to you to make certain your answer is reasonable (ex: verify the average value of the two datasets support your conclusion, etc).  As noted, your `alternative` parameter will differ depending on the order of your lists.\n"
   ]
  },
  {
   "cell_type": "code",
   "execution_count": 29,
   "metadata": {},
   "outputs": [
    {
     "data": {
      "text/plain": [
       "(np.float64(-0.32692059089160797), np.float64(0.3718639733918849))"
      ]
     },
     "execution_count": 29,
     "metadata": {},
     "output_type": "execute_result"
    }
   ],
   "source": [
    "section_results = ztest(df_10am[siblings_question], df_12pm[siblings_question], alternative='smaller')\n",
    "section_results"
   ]
  },
  {
   "attachments": {},
   "cell_type": "markdown",
   "metadata": {},
   "source": [
    "### Analysis: Interpretation \n",
    "**Q4: We have now calculated the p-value for our hypothesis test. Do we reject the null hypothesis? Why or why not? What does this mean in the context of our original statement that *Do the students in the 10am section have less siblings than the 12pm section*.**\n",
    "\n",
    "Remember, our significance level is $0.05$.\n"
   ]
  },
  {
   "cell_type": "markdown",
   "metadata": {},
   "source": [
    "*(✏️ Edit this cell to replace this text with your answers. ✏️)*"
   ]
  },
  {
   "cell_type": "markdown",
   "metadata": {},
   "source": [
    "<hr style=\"color: #DD3403;\">"
   ]
  },
  {
   "cell_type": "markdown",
   "metadata": {},
   "source": [
    "## Puzzle 3: How many classes are DISCOVERY students taking?\n",
    "\n",
    "Let's explore another hypothesis test!\n",
    "\n",
    "One question you answered in the Hello Survey is \"*How many classes are you taking this semester?*\"  You know that the professors think that DISCOVERY students are usually in 5 classes, but you think students are actually in **MORE** than just 5!"
   ]
  },
  {
   "cell_type": "markdown",
   "metadata": {},
   "source": [
    "### Defining Our Hypotheses\n",
    "**Q5: Define the null and alternative hypotheses using the cell below. Think about whether or not this is a one-sided or two-sided test.** "
   ]
  },
  {
   "cell_type": "markdown",
   "metadata": {},
   "source": [
    "*(✏️ Edit this cell to replace this text with your answers. ✏️)*"
   ]
  },
  {
   "cell_type": "markdown",
   "metadata": {},
   "source": [
    "## Puzzle 3.1: Find the Column \n",
    "\n",
    "Assign the column name corresponding to the number of classes students are taking to a **string variable** named `classes_question` using the cell below:"
   ]
  },
  {
   "cell_type": "code",
   "execution_count": 32,
   "metadata": {},
   "outputs": [],
   "source": [
    "classes_question = \"How many classes are you taking this semester?\""
   ]
  },
  {
   "cell_type": "markdown",
   "metadata": {},
   "source": [
    "## Puzzle 3.2: Conducting the Hypothesis Test\n",
    "\n",
    "Now we have everything ready to conduct our **z-test**. \n",
    "\n",
    "Using the cell below, conduct the z-test to determine whether students at UIUC take **more than 5 classes per semester on average** and store the results in the variable `class_results`.\n",
    "\n",
    "- **Remember**, when doing the test, you'll want to use `df[\"column\"].dropna()` to make sure to not include any `NaN values` since this z-test requires that there are no missing values.\n",
    "- You will need to use the `ztest` function. You may need to refer to the documentation to find out how to specify the correct alternative parameter (https://www.statsmodels.org/dev/generated/statsmodels.stats.weightstats.ztest.html)."
   ]
  },
  {
   "cell_type": "code",
   "execution_count": 33,
   "metadata": {},
   "outputs": [
    {
     "data": {
      "text/plain": [
       "(np.float64(-0.24562483308563043), np.float64(0.5970136679914015))"
      ]
     },
     "execution_count": 33,
     "metadata": {},
     "output_type": "execute_result"
    }
   ],
   "source": [
    "class_results = ztest(df_hello[classes_question].dropna(), value=5, alternative='larger')\n",
    "class_results"
   ]
  },
  {
   "cell_type": "markdown",
   "metadata": {},
   "source": [
    "### 🔬 Test Case Checkpoint 🔬"
   ]
  },
  {
   "cell_type": "code",
   "execution_count": 34,
   "metadata": {},
   "outputs": [
    {
     "name": "stdout",
     "output_type": "stream",
     "text": [
      "🎉 All tests passed! 🎉\n"
     ]
    }
   ],
   "source": [
    "## == CHECKPOINT TEST CASES ==\n",
    "# - This read-only cell contains test cases for your previous cell.\n",
    "# - If this cell runs without any errors, you PASSED all test cases!\n",
    "# - If this cell results in any errors, check your previous cell, make changes, and RE-RUN your code and then this cell.\n",
    "assert(isinstance(classes_question, str)), \"Make sure your `classes_question` is a string.\"\n",
    "assert('class_results' in vars()), \"Double check your variable name for z-test result. It should be named 'class_results'.\"\n",
    "assert(math.isclose(class_results[0], -0.24562483308563043)), \"The z-stat of your z-test is incorrect.\"\n",
    "assert(math.isclose(class_results[1], 0.5970136679914015)), \"The p-value of your z-test is incorrect.\"\n",
    "\n",
    "## == SUCCESS MESSAGE ==\n",
    "# You will only see this message (with the emoji showing) if you passed all test cases:\n",
    "tada = \"\\N{PARTY POPPER}\"\n",
    "print(f\"{tada} All tests passed! {tada}\")"
   ]
  },
  {
   "cell_type": "markdown",
   "metadata": {},
   "source": [
    "### Analysis: Interpretation \n",
    "**Q6: We have now calculated the p-value for our hypothesis test. Do we reject the null hypothesis? Explain why or why not. Make sure to explain what this means in the context of our original question. Make sure you answer *all* parts of this question.** \n",
    "\n",
    "Remember, our significance level is $0.05$.\n",
    "\n"
   ]
  },
  {
   "cell_type": "markdown",
   "metadata": {},
   "source": [
    "*(✏️ Edit this cell to replace this text with your answers. ✏️)*"
   ]
  },
  {
   "cell_type": "markdown",
   "metadata": {},
   "source": [
    "<hr style=\"color: #DD3403;\">"
   ]
  },
  {
   "cell_type": "markdown",
   "metadata": {},
   "source": [
    "# Submission\n",
    "\n",
    "You're almost done!  All you need to do is to commit your lab to GitHub:\n",
    "\n",
    "1.  ⚠️ **Make certain to save your work.** ⚠️ To do this, go to **File => Save All**\n",
    "\n",
    "2.  After you have saved, exit this notebook and follow the Canvas instructions to commit this lab to your Git repository!\n",
    "\n",
    "3. Your TA will grade your submission and provide you feedback after the lab is due. :)"
   ]
  }
 ],
 "metadata": {
  "kernelspec": {
   "display_name": "Python 3",
   "language": "python",
   "name": "python3"
  },
  "language_info": {
   "codemirror_mode": {
    "name": "ipython",
    "version": 3
   },
   "file_extension": ".py",
   "mimetype": "text/x-python",
   "name": "python",
   "nbconvert_exporter": "python",
   "pygments_lexer": "ipython3",
   "version": "3.13.3"
  }
 },
 "nbformat": 4,
 "nbformat_minor": 2
}
